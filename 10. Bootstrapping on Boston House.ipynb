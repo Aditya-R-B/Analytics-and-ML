{
  "cells": [
    {
      "cell_type": "markdown",
      "metadata": {
        "id": "3sNKZq4XrXQh"
      },
      "source": [
        "# <font color='red'><b>Bootstrap assignment</b> </font>"
      ]
    },
    {
      "cell_type": "markdown",
      "metadata": {
        "id": "RAHap1Z3FZC-"
      },
      "source": [
        "<b>There will be some functions that start with the word \"grader\" ex: grader_sampples(), grader_30().. etc, you should not change those function definition.\n",
        "\n",
        "Every Grader function has to return True.</b>"
      ]
    },
    {
      "cell_type": "markdown",
      "metadata": {
        "id": "cuxBq_bvrwh2"
      },
      "source": [
        "<font color='blue'> <b>Importing packages</b> </font>"
      ]
    },
    {
      "cell_type": "code",
      "execution_count": null,
      "metadata": {
        "id": "m6ag91ijrQOs"
      },
      "outputs": [],
      "source": [
        "import numpy as np # importing numpy for numerical computation\n",
        "from sklearn.datasets import load_boston # here we are using sklearn's boston dataset\n",
        "from sklearn.metrics import mean_squared_error # importing mean_squared_error metric\n",
        "import warnings\n",
        "warnings.filterwarnings(\"ignore\")"
      ]
    },
    {
      "cell_type": "code",
      "execution_count": null,
      "metadata": {
        "id": "CcHOsONTt1K_"
      },
      "outputs": [],
      "source": [
        "boston = load_boston()\n",
        "x=boston.data #independent variables\n",
        "y=boston.target #target variable"
      ]
    },
    {
      "cell_type": "code",
      "execution_count": null,
      "metadata": {
        "colab": {
          "base_uri": "https://localhost:8080/"
        },
        "id": "pc1htEFYuLRj",
        "outputId": "78fd44e2-fa21-4342-9f55-9669da2d69e0"
      },
      "outputs": [
        {
          "output_type": "execute_result",
          "data": {
            "text/plain": [
              "(506, 13)"
            ]
          },
          "metadata": {},
          "execution_count": 4
        }
      ],
      "source": [
        "x.shape"
      ]
    },
    {
      "cell_type": "markdown",
      "metadata": {
        "id": "AEa_HqRZloH4"
      },
      "source": [
        "## <font color='red'><b>Task 1</b></font>"
      ]
    },
    {
      "cell_type": "markdown",
      "metadata": {
        "id": "YQ5q8IxHNRk3"
      },
      "source": [
        "<font color='red'> <b>Step - 1</b></font>"
      ]
    },
    {
      "cell_type": "markdown",
      "metadata": {
        "id": "GJCFCaOzl7Mr"
      },
      "source": [
        "*  <font color='blue'><b>Creating samples</b></font><br>\n",
        "    <b> Randomly create 30 samples from the whole boston data points</b>\n",
        "    *  Creating each sample: Consider any random 303(60% of 506) data points from whole data set and then replicate any 203 points from the sampled points\n",
        "    \n",
        "     For better understanding of this procedure lets check this examples, assume we have 10 data points [1,2,3,4,5,6,7,8,9,10], first we take 6 data points randomly , consider we have selected [4, 5, 7, 8, 9, 3] now we will replicate 4 points from [4, 5, 7, 8, 9, 3], consder they are [5, 8, 3,7] so our final sample will be [4, 5, 7, 8, 9, 3, 5, 8, 3,7]\n",
        "* <font color='blue'><b> Create 30 samples </b></font>\n",
        "    *  Note that as a part of the Bagging when you are taking the random samples <b>make sure each of the sample will have different set of columns</b><br>\n",
        "Ex: Assume we have 10 columns[1 ,2 ,3 ,4 ,5 ,6 ,7 ,8 ,9 ,10] for the first sample we will select [3, 4, 5, 9, 1, 2] and for the second sample  [7, 9, 1, 4, 5, 6, 2] and so on...\n",
        "Make sure each sample will have atleast 3 feautres/columns/attributes\n",
        "\n",
        "* <font color='red'><b> Note - While selecting the random 60% datapoints from the whole data, make sure that the selected datapoints are all exclusive, repetition is not allowed. </b></font>"
      ]
    },
    {
      "cell_type": "markdown",
      "metadata": {
        "id": "zUqFEBSvNjCa"
      },
      "source": [
        "<font color='red'><b>Step - 2 </b></font>"
      ]
    },
    {
      "cell_type": "markdown",
      "metadata": {
        "id": "uqi9AhCYNq3Z"
      },
      "source": [
        "<font color='blue'><b>Building High Variance Models on each of the sample and finding train MSE value</b></font>"
      ]
    },
    {
      "cell_type": "markdown",
      "metadata": {
        "id": "-lLBnZHXOFln"
      },
      "source": [
        "*  Build a regression trees on each of 30 samples.\n",
        "*  Computed the predicted values of each data point(506 data points) in your corpus.\n",
        "*  Predicted house price of $i^{th}$ data point $y^{i}_{pred} =  \\frac{1}{30}\\sum_{k=1}^{30}(\\text{predicted value of } x^{i} \\text{ with } k^{th} \\text{ model})$\n",
        "*  Now calculate the $MSE =  \\frac{1}{506}\\sum_{i=1}^{506}(y^{i} - y^{i}_{pred})^{2}$"
      ]
    },
    {
      "cell_type": "markdown",
      "metadata": {
        "id": "Kls23JLnSN23"
      },
      "source": [
        "<font color='red'> <b>Step - 3 </b></font>"
      ]
    },
    {
      "cell_type": "markdown",
      "metadata": {
        "id": "rz2GchkGSWnh"
      },
      "source": [
        "*  <font color='blue'><b>Calculating the OOB score </b></font>"
      ]
    },
    {
      "cell_type": "markdown",
      "metadata": {
        "id": "DGHkVV2kSibm"
      },
      "source": [
        "*  Predicted house price of $i^{th}$ data point $y^{i}_{pred} =  \\frac{1}{k}\\sum_{\\text{k= model which was buit on samples not included } x^{i}}(\\text{predicted value of } x^{i} \\text{ with } k^{th} \\text{ model})$.\n",
        "*  Now calculate the $OOB Score =  \\frac{1}{506}\\sum_{i=1}^{506}(y^{i} - y^{i}_{pred})^{2}$."
      ]
    },
    {
      "cell_type": "markdown",
      "metadata": {
        "id": "RK860ocxTyoz"
      },
      "source": [
        "# <font color='red'><b>Task 2</b></font>"
      ]
    },
    {
      "cell_type": "markdown",
      "metadata": {
        "id": "1dme-N6TUCrY"
      },
      "source": [
        "*  <font color='blue'><b>Computing CI of OOB Score and Train MSE</b></font>\n",
        "  *   Repeat Task 1 for 35 times, and for each iteration store the Train MSE and OOB score </li>\n",
        "<li> After this we will have 35 Train MSE values and 35 OOB scores </li>\n",
        "<li> using these 35 values (assume like a sample) find the confidence intravels of MSE and OOB Score </li>\n",
        "<li> you need to report CI of MSE and CI of OOB Score </li>\n",
        "<li> Note: Refer the Central_Limit_theorem.ipynb to check how to find the confidence intravel</li>\n",
        "</ol>"
      ]
    },
    {
      "cell_type": "markdown",
      "metadata": {
        "id": "O6UcH1x9Uwrj"
      },
      "source": [
        "# <font color='red'><b>Task 3</b></font>"
      ]
    },
    {
      "cell_type": "markdown",
      "metadata": {
        "id": "bOC_AgsLU7OH"
      },
      "source": [
        "*  <font color='blue'><b>Given a single query point predict the price of house.</b></font>"
      ]
    },
    {
      "cell_type": "markdown",
      "metadata": {
        "id": "HYs5jSFdVILe"
      },
      "source": [
        "Consider xq= [0.18,20.0,5.00,0.0,0.421,5.60,72.2,7.95,7.0,30.0,19.1,372.13,18.60] \n",
        "Predict the house price for this point as mentioned in the step 2 of Task 1."
      ]
    },
    {
      "cell_type": "markdown",
      "metadata": {
        "id": "u6rShd89t552"
      },
      "source": [
        "## <font color='red'><b>A few key points</b></font>"
      ]
    },
    {
      "cell_type": "markdown",
      "metadata": {
        "id": "XdgTUXTouHEd"
      },
      "source": [
        "* Remember that the datapoints used for calculating MSE score contain some datapoints that were initially used while training the base learners (the 60% sampling). This makes these datapoints partially seen (i.e. the datapoints used for calculating the MSE score are a mixture of seen and unseen data).\n",
        "Whereas, the datapoints used for calculating OOB score have only the unseen data. This makes these datapoints completely unseen and therefore appropriate for testing the model's performance on unseen data.\n",
        "\n",
        "* Given the information above, if your logic is correct, the calculated MSE score should be less than the OOB score.\n",
        "\n",
        "* The MSE score must lie between 0 and 10.\n",
        "* The OOB score must lie between 10 and 35.\n",
        "\n",
        "* The difference between the left nad right confidence-interval values must not be more than 10. Make sure this is true for both MSE and OOB confidence-interval values."
      ]
    },
    {
      "cell_type": "markdown",
      "metadata": {
        "id": "V2fHTdS_zpgG"
      },
      "source": [
        "# <font color='blue'> <b>Task - 1</b></font>"
      ]
    },
    {
      "cell_type": "markdown",
      "metadata": {
        "id": "e0yGBuryOwHz"
      },
      "source": [
        "<font color='blue'><b>Step - 1</b></font>"
      ]
    },
    {
      "cell_type": "markdown",
      "metadata": {
        "id": "lJXX8vf3z073"
      },
      "source": [
        "*  <font color='blue'> <b>Creating samples</b></font>"
      ]
    },
    {
      "cell_type": "markdown",
      "metadata": {
        "id": "CSVaWG1F4uCZ"
      },
      "source": [
        "<font color='Orange'><b>Algorithm</b></font>\n",
        "\n",
        "![alt text](https://i.imgur.com/OfcFrUP.jpg/)"
      ]
    },
    {
      "cell_type": "markdown",
      "metadata": {
        "id": "f_oWoN97BhDY"
      },
      "source": [
        "*  <font color='blue'><b> Write code for generating samples</b></font>"
      ]
    },
    {
      "cell_type": "code",
      "execution_count": null,
      "metadata": {
        "id": "Ph_6D2SDzz7F"
      },
      "outputs": [],
      "source": [
        "from random import choice\n",
        "def generating_samples(input_data, target_data):\n",
        "\n",
        "    '''In this function, we will write code for generating 30 samples '''\n",
        "    # you can use random.choice to generate random indices without replacement\n",
        "    # Please have a look at this link https://docs.scipy.org/doc/numpy-1.16.0/reference/generated/numpy.random.choice.html for more details\n",
        "    # Please follow above pseudo code for generating samples\n",
        "    selecting_rows=np.random.choice(a=506,size=303,replace=False) #Selecting 303 random indices from input_data\n",
        "    \n",
        "    #Selecting Column Indices\n",
        "    arr=np.arange(13)\n",
        "    column_len= np.random.choice(a=np.arange(3,14))\n",
        "    selecting_columns= np.random.choice(a=arr,size=column_len,replace=False)\n",
        "    \n",
        "    #Preparation of Data of 303 rows\n",
        "    sample_data= input_data[selecting_rows[:,None],selecting_columns]\n",
        "    target_of_sample_data=target_data[selecting_rows]\n",
        "\n",
        "    #Replicating Data\n",
        "    replacing_rows= np.random.choice(a=len(sample_data),size=203, replace=False) #Selecting 203 random indices from sampled_data\n",
        "    replicated_sample_data=sample_data[replacing_rows]\n",
        "    target_of_replicated_sample_data=target_of_sample_data[replacing_rows]\n",
        "\n",
        "    #Concatinating Data\n",
        "    final_sample_data=np.vstack((sample_data,replicated_sample_data))\n",
        "    final_target_data=np.vstack((target_of_sample_data.reshape(-1,1),target_of_replicated_sample_data.reshape(-1,1)))\n",
        "\n",
        "    return final_sample_data, final_target_data, selecting_rows, selecting_columns  "
      ]
    },
    {
      "cell_type": "markdown",
      "metadata": {
        "id": "MivEQFlm7iOg"
      },
      "source": [
        "<font color='cyan'> <b> Grader function - 1 </b> </fongt>"
      ]
    },
    {
      "cell_type": "code",
      "execution_count": null,
      "metadata": {
        "id": "AVvuhNzm7uld",
        "colab": {
          "base_uri": "https://localhost:8080/"
        },
        "outputId": "99be46a2-d422-440f-a06e-8d556e1b9ce2"
      },
      "outputs": [
        {
          "output_type": "execute_result",
          "data": {
            "text/plain": [
              "True"
            ]
          },
          "metadata": {},
          "execution_count": 6
        }
      ],
      "source": [
        "def grader_samples(a,b,c,d):\n",
        "    length = (len(a)==506  and len(b)==506)\n",
        "    sampled = (len(a)-len(set([str(i) for i in a]))==203)\n",
        "    rows_length = (len(c)==303)\n",
        "    column_length= (len(d)>=3)\n",
        "    assert(length and sampled and rows_length and column_length)\n",
        "    return True\n",
        "a,b,c,d = generating_samples(x, y)\n",
        "grader_samples(a,b,c,d)"
      ]
    },
    {
      "cell_type": "markdown",
      "metadata": {
        "id": "b4LSsmn4Jn2_"
      },
      "source": [
        "*  <font color='blue'> <b>Create 30 samples </b>"
      ]
    },
    {
      "cell_type": "markdown",
      "metadata": {
        "id": "3ec7MN6sL2BZ"
      },
      "source": [
        "![alt text](https://i.imgur.com/p8eZaWL.jpg)"
      ]
    },
    {
      "cell_type": "code",
      "execution_count": null,
      "metadata": {
        "id": "XXlKWjCcBvTk",
        "colab": {
          "base_uri": "https://localhost:8080/",
          "height": 235
        },
        "outputId": "ba838eb6-eb73-4abc-ec1a-6a1954eac5bf"
      },
      "outputs": [
        {
          "output_type": "error",
          "ename": "NameError",
          "evalue": "ignored",
          "traceback": [
            "\u001b[0;31m---------------------------------------------------------------------------\u001b[0m",
            "\u001b[0;31mNameError\u001b[0m                                 Traceback (most recent call last)",
            "\u001b[0;32m<ipython-input-5-141d83df5dda>\u001b[0m in \u001b[0;36m<module>\u001b[0;34m\u001b[0m\n\u001b[1;32m      7\u001b[0m \u001b[0;34m\u001b[0m\u001b[0m\n\u001b[1;32m      8\u001b[0m \u001b[0;32mfor\u001b[0m \u001b[0mi\u001b[0m \u001b[0;32min\u001b[0m \u001b[0mrange\u001b[0m\u001b[0;34m(\u001b[0m\u001b[0;36m0\u001b[0m\u001b[0;34m,\u001b[0m\u001b[0;36m30\u001b[0m\u001b[0;34m)\u001b[0m\u001b[0;34m:\u001b[0m\u001b[0;34m\u001b[0m\u001b[0;34m\u001b[0m\u001b[0m\n\u001b[0;32m----> 9\u001b[0;31m   \u001b[0ma\u001b[0m\u001b[0;34m,\u001b[0m\u001b[0mb\u001b[0m\u001b[0;34m,\u001b[0m\u001b[0mc\u001b[0m\u001b[0;34m,\u001b[0m\u001b[0md\u001b[0m\u001b[0;34m=\u001b[0m\u001b[0mgenerating_samples\u001b[0m\u001b[0;34m(\u001b[0m\u001b[0mx\u001b[0m\u001b[0;34m,\u001b[0m\u001b[0my\u001b[0m\u001b[0;34m)\u001b[0m\u001b[0;34m\u001b[0m\u001b[0;34m\u001b[0m\u001b[0m\n\u001b[0m\u001b[1;32m     10\u001b[0m   \u001b[0mlist_input_data\u001b[0m\u001b[0;34m.\u001b[0m\u001b[0mappend\u001b[0m\u001b[0;34m(\u001b[0m\u001b[0ma\u001b[0m\u001b[0;34m)\u001b[0m\u001b[0;34m\u001b[0m\u001b[0;34m\u001b[0m\u001b[0m\n\u001b[1;32m     11\u001b[0m   \u001b[0mlist_output_data\u001b[0m\u001b[0;34m.\u001b[0m\u001b[0mappend\u001b[0m\u001b[0;34m(\u001b[0m\u001b[0mb\u001b[0m\u001b[0;34m)\u001b[0m\u001b[0;34m\u001b[0m\u001b[0;34m\u001b[0m\u001b[0m\n",
            "\u001b[0;31mNameError\u001b[0m: name 'generating_samples' is not defined"
          ]
        }
      ],
      "source": [
        "# Use generating_samples function to create 30 samples \n",
        "# store these created samples in a list\n",
        "list_input_data =[]\n",
        "list_output_data =[]\n",
        "list_selected_row= []\n",
        "list_selected_columns=[]\n",
        "\n",
        "for i in range(0,30):\n",
        "  a,b,c,d=generating_samples(x,y)\n",
        "  list_input_data.append(a)\n",
        "  list_output_data.append(b)\n",
        "  list_selected_row.append(c)\n",
        "  list_selected_columns.append(d)"
      ]
    },
    {
      "cell_type": "markdown",
      "metadata": {
        "id": "MXUz9VFiMQkh"
      },
      "source": [
        "<font color='cyan'> <b>Grader function - 2 </b></font>"
      ]
    },
    {
      "cell_type": "code",
      "execution_count": null,
      "metadata": {
        "id": "hCvIq8NuMWOC",
        "colab": {
          "base_uri": "https://localhost:8080/"
        },
        "outputId": "46a28df6-c362-4e05-b7ec-a8e8cc96a761"
      },
      "outputs": [
        {
          "output_type": "execute_result",
          "data": {
            "text/plain": [
              "True"
            ]
          },
          "metadata": {},
          "execution_count": 8
        }
      ],
      "source": [
        "def grader_30(a):\n",
        "    assert(len(a)==30 and len(a[0])==506)\n",
        "    return True\n",
        "grader_30(list_input_data)"
      ]
    },
    {
      "cell_type": "markdown",
      "metadata": {
        "id": "whaHCPB0O8qF"
      },
      "source": [
        "<font color='red'><b>Step - 2 </b></font>"
      ]
    },
    {
      "cell_type": "markdown",
      "metadata": {
        "id": "XBy4zXSWPtU8"
      },
      "source": [
        "<font color='orange'><b>Flowchart for building tree</b></font>"
      ]
    },
    {
      "cell_type": "markdown",
      "metadata": {
        "id": "5xvH06HPQBdP"
      },
      "source": [
        "![alt text](https://i.imgur.com/pcXfSmp.png)"
      ]
    },
    {
      "cell_type": "markdown",
      "metadata": {
        "id": "WRwPO_uHQjul"
      },
      "source": [
        "*  <font color='blue'><b> Write code for building regression trees</b></font>"
      ]
    },
    {
      "cell_type": "code",
      "execution_count": null,
      "metadata": {
        "id": "YWQp6tRwMthq"
      },
      "outputs": [],
      "source": [
        "from sklearn.tree import DecisionTreeRegressor\n",
        "list_of_all_models=[]\n",
        "\n",
        "for i in range(len(list_input_data)):\n",
        "  model=DecisionTreeRegressor(max_depth=None)\n",
        "  regressor=model.fit(list_input_data[i],list_output_data[i])\n",
        "  list_of_all_models.append(regressor)"
      ]
    },
    {
      "cell_type": "markdown",
      "metadata": {
        "id": "21j8BKfAQ1U8"
      },
      "source": [
        "<font color='orange'><b>Flowchart for calculating MSE </b></font>"
      ]
    },
    {
      "cell_type": "markdown",
      "metadata": {
        "id": "8Q0mTBD2RBx_"
      },
      "source": [
        "![alt text](https://i.imgur.com/sPEE618.png)"
      ]
    },
    {
      "cell_type": "markdown",
      "metadata": {
        "id": "6e-UamlHRjPy"
      },
      "source": [
        "After getting predicted_y for each data point, we can use sklearns mean_squared_error to calculate the MSE between predicted_y and actual_y."
      ]
    },
    {
      "cell_type": "markdown",
      "metadata": {
        "id": "TnIMT7_oR312"
      },
      "source": [
        "*  <font color='blue'><b> Write code for calculating MSE</b></font>"
      ]
    },
    {
      "cell_type": "code",
      "source": [
        "y_pred_overall=[] #To store predicted values of y of all 506 datapoints of x.\n",
        "for i in range(len(x)): #For each datapoint in x\n",
        "  array_of_Y=[] #To store all values of y_pred of each of the 30 models, of each datapoint\n",
        "  for j in range(len(list_selected_columns)): #Range 30\n",
        "    p=list_of_all_models[j].predict(x[i][list_selected_columns[j]].reshape(1,-1)) #Calculating y_pred\n",
        "    array_of_Y.append(p[0])\n",
        "  predicted_price= np.median(array_of_Y) #Median of predicted price of each of the 30 models\n",
        "  y_pred_overall.append(predicted_price)\n",
        "print(\"Predicted Ys= \",y_pred_overall[0:10])\n",
        "print('_'*100)\n",
        "print(\"Actual Ys: \", y[0:10])\n",
        "print('_'*100)\n",
        "\n",
        "#Calculation of Mean Square Error:\n",
        "square_of_diff=[]\n",
        "for i in range(len(y)):\n",
        "  diff_sq=(y[i]-y_pred_overall[i])**2\n",
        "  square_of_diff.append(diff_sq)\n",
        "MSE= np.round(sum(square_of_diff)/506,4)\n",
        "print(\"Mean Square Error= \",MSE)\n",
        "RMSE=(MSE)**1/2\n",
        "print(\"Root Mean Square Error= \",RMSE)"
      ],
      "metadata": {
        "id": "X32fL3ZfZWEQ",
        "outputId": "026402b6-793f-4b1c-e456-3c7edd6c6345",
        "colab": {
          "base_uri": "https://localhost:8080/"
        }
      },
      "execution_count": null,
      "outputs": [
        {
          "output_type": "stream",
          "name": "stdout",
          "text": [
            "Predicted Ys=  [24.0, 21.6, 34.7, 33.4, 35.68333333333334, 28.7, 22.9, 27.1, 16.5, 18.9]\n",
            "____________________________________________________________________________________________________\n",
            "Actual Ys:  [24.  21.6 34.7 33.4 36.2 28.7 22.9 27.1 16.5 18.9]\n",
            "____________________________________________________________________________________________________\n",
            "Mean Square Error=  0.1114\n",
            "Root Mean Square Error=  0.0557\n"
          ]
        }
      ]
    },
    {
      "cell_type": "markdown",
      "metadata": {
        "id": "RuclPDMnSz8F"
      },
      "source": [
        "<font color='blue'><b>Step - 3 </b></font>"
      ]
    },
    {
      "cell_type": "markdown",
      "metadata": {
        "id": "ESb9FSIDTM5V"
      },
      "source": [
        "<font color='orange'><b>Flowchart for calculating OOB score</b></font>"
      ]
    },
    {
      "cell_type": "markdown",
      "metadata": {
        "id": "HB-d6NMETbd9"
      },
      "source": [
        "![alt text](https://i.imgur.com/95S5Mtm.png)"
      ]
    },
    {
      "cell_type": "markdown",
      "source": [
        "*  <font color='blue'><b> Write code for calculating OOB score </b></font>"
      ],
      "metadata": {
        "id": "W35_14PlCU_b"
      }
    },
    {
      "cell_type": "code",
      "source": [
        "y_pred_overall_oob=[] #To Store Predicted values of each Datapoint\n",
        "for i in range(len(x)): #In Range 506\n",
        "  array_of_Y_oob=[] #To Store predicted Y of each Datapoint which is not present while training Model_i.\n",
        "  for j in range(len(list_input_data)): #Range 30\n",
        "    if x[i] not in list_input_data[j]: #If a datapoint is not present in the training data given to Model_i.\n",
        "      p_oob=list_of_all_models[j].predict(x[i][list_selected_columns[j]].reshape(1,-1)) #Y_predict of datapoint x[i]\n",
        "      array_of_Y_oob.append(p_oob[0])\n",
        "  predicted_price_oob= np.median(array_of_Y_oob) #Predicted price= Median predicted price of all 30 models.\n",
        "  y_pred_overall_oob.append(predicted_price_oob)"
      ],
      "metadata": {
        "id": "-PC8age1lfU-"
      },
      "execution_count": null,
      "outputs": []
    },
    {
      "cell_type": "code",
      "source": [
        "print(\"Predicted Ys= \",y_pred_overall_oob[0:10])\n",
        "print('_'*100)\n",
        "print(\"Actual Ys: \", y[0:10])\n",
        "print('_'*100)\n",
        "\n"
      ],
      "metadata": {
        "id": "GzQPeecPA5c4",
        "outputId": "928c099f-3132-408a-da96-38f5864c3ff6",
        "colab": {
          "base_uri": "https://localhost:8080/"
        }
      },
      "execution_count": null,
      "outputs": [
        {
          "output_type": "stream",
          "name": "stdout",
          "text": [
            "Predicted Ys=  [24.0, 21.6, 34.7, 34.05, 36.2, 28.7, 22.9, 27.1, 16.5, 18.9]\n",
            "____________________________________________________________________________________________________\n",
            "Actual Ys:  [24.  21.6 34.7 33.4 36.2 28.7 22.9 27.1 16.5 18.9]\n",
            "____________________________________________________________________________________________________\n"
          ]
        }
      ]
    },
    {
      "cell_type": "markdown",
      "metadata": {
        "id": "WW3GOcFzTqbt"
      },
      "source": [
        "Now calculate the $OOB Score =  \\frac{1}{506}\\sum_{i=1}^{506}(y^{i} - y^{i}_{pred})^{2}$."
      ]
    },
    {
      "cell_type": "code",
      "source": [
        "#Calculation of OOB Score:\n",
        "square_of_diff_oob=[]\n",
        "for i in range(len(y)):\n",
        "  diff_sq_oob=(y[i]-y_pred_overall_oob[i])**2\n",
        "  square_of_diff_oob.append(diff_sq_oob)\n",
        "OOB_Score= np.round(sum(square_of_diff_oob)/506,4)\n",
        "print(\"OOB Score= \",OOB_Score)\n",
        "print('_'*100)"
      ],
      "metadata": {
        "id": "4PwtXhB1BWUJ",
        "outputId": "479052d0-58a0-4e50-d42e-41b784a14637",
        "colab": {
          "base_uri": "https://localhost:8080/"
        }
      },
      "execution_count": null,
      "outputs": [
        {
          "output_type": "stream",
          "name": "stdout",
          "text": [
            "OOB Score=  0.0906\n",
            "____________________________________________________________________________________________________\n"
          ]
        }
      ]
    },
    {
      "cell_type": "markdown",
      "metadata": {
        "id": "sbuiwX3OUjUI"
      },
      "source": [
        "# <font color='blue'><b>Task 2</b></font>"
      ]
    },
    {
      "cell_type": "code",
      "execution_count": null,
      "metadata": {
        "id": "ceW5-D88Uswi"
      },
      "outputs": [],
      "source": [
        "list_of_MSE,list_of_OOBS=[],[]\n",
        "\n",
        "for num in range(35):\n",
        "  list_input_data =[]\n",
        "  list_output_data =[]\n",
        "  list_selected_row= []\n",
        "  list_selected_columns=[]\n",
        "  \n",
        "  for n in range(0,30):\n",
        "    a,b,c,d=generating_samples(x,y)\n",
        "    list_input_data.append(a)\n",
        "    list_output_data.append(b)\n",
        "    list_selected_row.append(c)\n",
        "    list_selected_columns.append(d)\n",
        "\n",
        "  list_of_all_models=[]\n",
        "  for i in range(len(list_input_data)):\n",
        "    model=DecisionTreeRegressor(max_depth=None)\n",
        "    regressor=model.fit(list_input_data[i],list_output_data[i])\n",
        "    list_of_all_models.append(regressor)\n",
        "\n",
        "  y_pred_overall=[] \n",
        "  for i in range(len(x)): \n",
        "    array_of_Y=[]\n",
        "    for j in range(len(list_selected_columns)):\n",
        "      p=list_of_all_models[j].predict(x[i][list_selected_columns[j]].reshape(1,-1))\n",
        "      array_of_Y.append(p[0])\n",
        "    predicted_price= np.median(array_of_Y)\n",
        "    y_pred_overall.append(predicted_price)\n",
        "\n",
        "  #Calculation of Mean Square Error\n",
        "  square_of_diff=[]\n",
        "  for i in range(len(y)):\n",
        "    diff_sq=(y[i]-y_pred_overall[i])**2\n",
        "    square_of_diff.append(diff_sq)\n",
        "  MSE= np.round(sum(square_of_diff)/506,4)\n",
        "  list_of_MSE.append(MSE)\n",
        "\n",
        "  y_pred_overall_oob=[]\n",
        "  for i in range(len(x)):\n",
        "    array_of_Y_oob=[]\n",
        "    for j in range(len(list_input_data)):\n",
        "      if x[i] not in list_input_data[j]:\n",
        "        p_oob=list_of_all_models[j].predict(x[i][list_selected_columns[j]].reshape(1,-1))\n",
        "        array_of_Y_oob.append(p_oob[0])\n",
        "    predicted_price_oob= np.median(array_of_Y_oob)\n",
        "    y_pred_overall_oob.append(predicted_price_oob)\n",
        "\n",
        "  #Calculation of OOB Score:\n",
        "  square_of_diff_oob=[]\n",
        "  for i in range(len(y)):\n",
        "    diff_sq_oob=(y[i]-y_pred_overall_oob[i])**2\n",
        "    square_of_diff_oob.append(diff_sq_oob)\n",
        "  OOB_Score= np.round(sum(square_of_diff_oob)/506,4)\n",
        "  list_of_OOBS.append(OOB_Score)"
      ]
    },
    {
      "cell_type": "code",
      "source": [
        "print(\"MSE List= \",list_of_MSE)\n",
        "print('-'*50)\n",
        "print(\"Length of MSE List= \", len(list_of_MSE))\n",
        "print(\"_\"*100)\n",
        "print(\"OOBS List= \",list_of_OOBS)\n",
        "print('-'*50)\n",
        "print(\"Length of OOBS List= \", len(list_of_OOBS))\n"
      ],
      "metadata": {
        "id": "7pNHe4qjK5g7",
        "outputId": "2435de2c-6ec1-4279-da25-89f99a4eb9f4",
        "colab": {
          "base_uri": "https://localhost:8080/"
        }
      },
      "execution_count": null,
      "outputs": [
        {
          "output_type": "stream",
          "name": "stdout",
          "text": [
            "MSE List=  [0.2609, 0.0827, 0.0751, 0.0501, 0.121, 0.0152, 0.0478, 0.0522, 0.0989, 0.0686, 0.0258, 0.0178, 0.3679, 0.0587, 0.0565, 0.0275, 0.0342, 0.0035, 0.1791, 0.0419, 0.0681, 0.0501, 0.0284, 0.0674, 0.1005, 0.1428, 0.044, 0.062, 0.0451, 0.0893, 0.0127, 0.0948, 0.1784, 0.0791, 0.2601]\n",
            "--------------------------------------------------\n",
            "Length of MSE List=  35\n",
            "____________________________________________________________________________________________________\n",
            "OOBS List=  [0.2667, 0.0844, 0.0743, 0.0712, 0.1149, 0.0218, 0.0423, 0.0527, 0.091, 0.1194, 0.0156, 0.0636, 0.7587, 0.1092, 0.068, 0.0331, 0.0615, 0.0214, 0.4943, 0.0827, 0.1427, 0.0729, 0.0769, 0.1714, 0.0486, 0.0956, 0.0247, 0.0921, 0.1376, 0.0445, 0.0099, 0.0933, 0.1593, 0.1055, 0.3226]\n",
            "--------------------------------------------------\n",
            "Length of OOBS List=  35\n"
          ]
        }
      ]
    },
    {
      "cell_type": "markdown",
      "source": [
        "### Population Means of MSE and OOBS\n"
      ],
      "metadata": {
        "id": "5VtIlVrF7W_u"
      }
    },
    {
      "cell_type": "code",
      "source": [
        "from statistics import mean\n",
        "from statistics import stdev\n",
        "population_mean_mse= np.round(mean(list_of_MSE),3)\n",
        "population_mean_oobs= np.round(mean(list_of_OOBS),3)\n",
        "print(\"Population Mean of MSEs= \",population_mean_mse)\n",
        "print(\"Population Mean of OOBS= \",population_mean_oobs)\n",
        "\n",
        "population_std_dev_MSE = np.round(stdev(list_of_MSE),3)\n",
        "population_std_dev_OOBS= np.round(stdev(list_of_OOBS),3)\n",
        "print(\"Population Standard Deviation of MSEs= \",population_std_dev_MSE)\n",
        "print(\"Population Standard Deviation of OOBS= \",population_std_dev_OOBS)"
      ],
      "metadata": {
        "id": "TeVSxE0B5FRp",
        "outputId": "30e0b615-0585-4498-c7c5-fd00d059f16d",
        "colab": {
          "base_uri": "https://localhost:8080/"
        }
      },
      "execution_count": null,
      "outputs": [
        {
          "output_type": "stream",
          "name": "stdout",
          "text": [
            "Population Mean of MSEs=  0.086\n",
            "Population Mean of OOBS=  0.121\n",
            "Population Standard Deviation of MSEs=  0.079\n",
            "Population Standard Deviation of OOBS=  0.145\n"
          ]
        }
      ]
    },
    {
      "cell_type": "markdown",
      "source": [
        "### Finding Confidence Intervals\n",
        "a) **MSE**\n"
      ],
      "metadata": {
        "id": "6YCbJMgTDuAU"
      }
    },
    {
      "cell_type": "markdown",
      "source": [
        "\n",
        "\n",
        "* From **Central Limit Theorem** we know that the Sampling Distribution of Sample means is approximately equal to a Normal/Gaussian Distribution with **Mean=Population Mean** and **Std-Error= Population Standard Deviation/(Number of Samples)1/2**. The larger the number of samples and sample size, the more closer it is to a Normal Distribution.\n",
        "\n",
        "* Here we have only 35 MSEs. Hence we can take the whole population as a sample and calculate sample mean (No need of further sampling).\n",
        "And also from **66,95,99.7 rule** we know that between the range **[mu_x-(2*Std_Err), mu_x+(2*Std_Err)]**, there lies **95%** of the Data. Hence we can calculate the Confidence Interval of the Mean using the above."
      ],
      "metadata": {
        "id": "uVg8BdVmLgzP"
      }
    },
    {
      "cell_type": "markdown",
      "source": [
        "<font size='3'>From the above equations Let us construct an interval = [<font color='red'> $\\overline{x}$- 2\\*$\\frac{\\sigma}{\\sqrt{n}}$, $\\overline{x}$+2\\*$\\frac{\\sigma}{\\sqrt{n}}$</font>]</font>, \n",
        "where <font color='red'> $\\overline{x}$</font> is the sample mean and  <font color='red'> $\\frac{\\sigma}{\\sqrt{n}}$ </font> is the standard error."
      ],
      "metadata": {
        "id": "KaKMrOvUxEAK"
      }
    },
    {
      "cell_type": "code",
      "source": [
        "sample_size_mse=len(list_of_MSE) #Taking the whole list as a sample\n",
        "sample_mean_MSE = np.round(mean(list_of_MSE),3) \n",
        "sample_std_dev_MSE= np.round(stdev(list_of_MSE),3)\n",
        "std_err_MSE= np.round(sample_std_dev_MSE/np.sqrt(sample_size_mse),3) #Standard Error\n",
        "Left_lim_MSE= np.round((sample_mean_MSE- 2*(std_err_MSE)),3) #Left Limit\n",
        "Right_lim_MSE= np.round((sample_mean_MSE+ 2*(std_err_MSE)),3) #Right Limit\n",
        "print(\"Sample Mean of MSEs: \",sample_mean_MSE )\n",
        "print(\"The 95% Confidence Interval of MSEs: \", [Left_lim_MSE,Right_lim_MSE])"
      ],
      "metadata": {
        "colab": {
          "base_uri": "https://localhost:8080/"
        },
        "id": "Jc390fv-GVbx",
        "outputId": "28847e0b-0973-4a18-b985-2f62ea88535d"
      },
      "execution_count": null,
      "outputs": [
        {
          "output_type": "stream",
          "name": "stdout",
          "text": [
            "Sample Mean of MSEs:  0.086\n",
            "The 95% Confidence Interval of MSEs:  [0.06, 0.112]\n"
          ]
        }
      ]
    },
    {
      "cell_type": "markdown",
      "source": [
        "Confidence Interval with 95% Confidence implies that the Population Mean of 'Mean Square Errors' lies in the above interval **95% of the time.**"
      ],
      "metadata": {
        "id": "l0R52Z7dQlb1"
      }
    },
    {
      "cell_type": "markdown",
      "source": [
        "Hence \n",
        "Confidence Interval of **Mean Square Errors** with **95%** Confidence=  **[0.06, 0.112]**"
      ],
      "metadata": {
        "id": "7GvUbzhPqFA6"
      }
    },
    {
      "cell_type": "markdown",
      "source": [
        "b) **OOBS**\n"
      ],
      "metadata": {
        "id": "e45bJ83-TzmV"
      }
    },
    {
      "cell_type": "code",
      "source": [
        "sample_size_oobs=len(list_of_OOBS) \n",
        "sample_mean_OOBS = np.round(mean(list_of_OOBS),3) \n",
        "sample_std_dev_OOBS= np.round(stdev(list_of_OOBS),3)\n",
        "std_err_OOBS= np.round(sample_std_dev_OOBS/np.sqrt(sample_size_oobs),3) #Standard Error\n",
        "Left_lim_OOBS= np.round((sample_mean_OOBS- 2*(std_err_OOBS)),3) #Left Limit\n",
        "Right_lim_OOBS= np.round((sample_mean_OOBS+ 2*(std_err_OOBS)),3) #Right Limit\n",
        "print(\"Sample Mean of OOBS: \",sample_mean_OOBS )\n",
        "print(\"The 95% Confidence Interval of OOBS: \", [Left_lim_OOBS,Right_lim_OOBS])"
      ],
      "metadata": {
        "colab": {
          "base_uri": "https://localhost:8080/"
        },
        "id": "RMrcjmxSJU9p",
        "outputId": "d0ce9cb5-dc8b-4366-ad29-65910b042b90"
      },
      "execution_count": null,
      "outputs": [
        {
          "output_type": "stream",
          "name": "stdout",
          "text": [
            "Sample Mean of OOBS:  0.121\n",
            "The 95% Confidence Interval of OOBS:  [0.071, 0.171]\n"
          ]
        }
      ]
    },
    {
      "cell_type": "markdown",
      "source": [
        "Hence \n",
        "Confidence Interval of **OOBS Scores** with **95%** Confidence=  **[0.071, 0.171]**"
      ],
      "metadata": {
        "id": "fvooN6sMq9OK"
      }
    },
    {
      "cell_type": "code",
      "source": [
        "from prettytable import PrettyTable\n",
        "x = PrettyTable()\n",
        "x = PrettyTable([\"For\",\"No: of Samples\", \"Sample Size\", \"Sample Mean\",\"Sample Standard Dev\", \"Std_Error\"+u\"\\u2248\"+\"Sample_std_Dev/\"+u\"\\u221A\"+\"n\",\"C.I\"])\n",
        "#MSE\n",
        "row=[\"MSE List\",1,35]\n",
        "row.append(sample_mean_MSE)\n",
        "row.append(sample_std_dev_MSE)\n",
        "row.append(std_err_MSE)\n",
        "row.append([Left_lim_MSE,Right_lim_MSE])\n",
        "x.add_row(row)\n",
        "\n",
        "#OOBS\n",
        "row1=[\"OOBS List\",1,35]\n",
        "row1.append(sample_mean_OOBS)\n",
        "row1.append(sample_std_dev_OOBS)\n",
        "row1.append(std_err_OOBS)\n",
        "row1.append([Left_lim_OOBS,Right_lim_OOBS])\n",
        "x.add_row(row1)\n",
        "print(x)"
      ],
      "metadata": {
        "colab": {
          "base_uri": "https://localhost:8080/"
        },
        "id": "ccdUvcEkLC3b",
        "outputId": "275ac164-1353-4efc-9990-a728151ab883"
      },
      "execution_count": null,
      "outputs": [
        {
          "output_type": "stream",
          "name": "stdout",
          "text": [
            "+-----------+----------------+-------------+-------------+---------------------+-----------------------------+----------------+\n",
            "|    For    | No: of Samples | Sample Size | Sample Mean | Sample Standard Dev | Std_Error≈Sample_std_Dev/√n |      C.I       |\n",
            "+-----------+----------------+-------------+-------------+---------------------+-----------------------------+----------------+\n",
            "|  MSE List |       1        |      35     |    0.086    |        0.079        |            0.013            | [0.06, 0.112]  |\n",
            "| OOBS List |       1        |      35     |    0.121    |        0.145        |            0.025            | [0.071, 0.171] |\n",
            "+-----------+----------------+-------------+-------------+---------------------+-----------------------------+----------------+\n"
          ]
        }
      ]
    },
    {
      "cell_type": "markdown",
      "metadata": {
        "id": "jKTnJdiBVS_e"
      },
      "source": [
        "# <font color='blue'><b>Task 3</b></font>"
      ]
    },
    {
      "cell_type": "markdown",
      "metadata": {
        "id": "eXxrvZqHV1Fr"
      },
      "source": [
        "<font color='orange'><b>Flowchart for Task 3</b></font>"
      ]
    },
    {
      "cell_type": "markdown",
      "metadata": {
        "id": "NyjwEJ62V6a6"
      },
      "source": [
        "<b>Hint: </b> We created 30 models by using 30 samples in TASK-1. Here, we need send query point \"xq\"  to 30 models and perform the regression on the output generated by 30 models."
      ]
    },
    {
      "cell_type": "markdown",
      "metadata": {
        "id": "0emSwLL7VurD"
      },
      "source": [
        "![alt text](https://i.imgur.com/Y5cNhQk.png)"
      ]
    },
    {
      "cell_type": "markdown",
      "metadata": {
        "id": "29hjwKlWWDfo"
      },
      "source": [
        "*  <font color='blue'><b> Write code for TASK 3 </b></font>"
      ]
    },
    {
      "cell_type": "code",
      "execution_count": null,
      "metadata": {
        "id": "i_pUlSD-VYD1",
        "colab": {
          "base_uri": "https://localhost:8080/"
        },
        "outputId": "c807f98a-0e76-4599-c3f7-924d6ef42fdc"
      },
      "outputs": [
        {
          "output_type": "stream",
          "name": "stdout",
          "text": [
            "Predicted House Price for the above Datapoint xq\n",
            " y=  18.7\n"
          ]
        }
      ],
      "source": [
        "xq=np.array([0.18,20.0,5.00,0.0,0.421,5.60,72.2,7.95,7.0,30.0,19.1,372.13,18.60])\n",
        "arr_of_Y=[]\n",
        "for i in range(len(list_selected_columns)):\n",
        "  y_predict=list_of_all_models[i].predict(xq[list_selected_columns[i]].reshape(1,-1))\n",
        "  arr_of_Y.append(y_predict[0])\n",
        "#Predicted y of Datapoint xq=\n",
        "y=np.median(arr_of_Y)\n",
        "print(\"Predicted House Price for the above Datapoint xq\\n y= \",y)"
      ]
    },
    {
      "cell_type": "markdown",
      "metadata": {
        "id": "IOdUi-0xWOJ9"
      },
      "source": [
        "<font color='red'><b>Write observations for task 1, task 2, task 3 indetail</b></font>"
      ]
    },
    {
      "cell_type": "markdown",
      "source": [
        "# OBSERVATIONS:\n",
        "\n",
        "The Boston House Price Dataset is one which contains the Prices of Houses in Boston as the Response Variable and 13 Features(Numerical) as the Independent Variable.\n",
        "It contains 506 Datapoints (**Shape=506*13**). Here we have been given the preprocessed Data.\n",
        "\n",
        "## Task 1\n",
        "In Task-1 for **Boston House Price Dataset** , we have applied **DecisionTreeRegression** using **Random Forest**. We have randomly sampled rows and columns from the original dataset and created **30 sample datasets**. We have applied DecisionTreeRegression() on each of the 30 samples. For each of the 506 datapoints in the original dataset, we predicted the House Price using each of the 30 models and found out the mean House Price as Y_pred.We then calculated Mean Square Error and Out of Box Score(OOBS) Score for the whole Dataset.\n",
        "* 1. **Mean Square Error(MSE)** (between Actual Ys and Predicted Ys)= **0.0765**\n",
        "  2. **Root Mean Square Error**= **0.03825**\n",
        "* **OOBS(Out of Box Score)**= **0.0906**\n",
        "\n",
        "## Task 2\n",
        "In Task 2, we trained all the Datapoints for each of the 30 models for **35 times**. We created a list of MSEs and OOBS, containing 35 values each.\n",
        "We found the 95% Confidence Interval of the MSEs and OOBs.\n",
        "\n",
        "* **95%** C.I of **MSEs**=[**0.06, 0.112**]\n",
        "* **95%** C.I of **OOBS**=[**0.071, 0.171**]\n",
        "\n",
        "## Task 3\n",
        "\n",
        "In Task 3, we found out the House Price for a given Datapoint xq=[0.18,20.0,5.00,0.0,0.421,5.60,72.2,7.95,7.0,30.0,19.1,372.13,18.60]. We trained this Datapoint on each of the 30 Models and found out the Median House Price as\n",
        "**y=18.7**.\n",
        "\n"
      ],
      "metadata": {
        "id": "IIaKhRsH5zay"
      }
    }
  ],
  "metadata": {
    "colab": {
      "provenance": []
    },
    "kernelspec": {
      "display_name": "Python 3",
      "language": "python",
      "name": "python3"
    },
    "language_info": {
      "codemirror_mode": {
        "name": "ipython",
        "version": 3
      },
      "file_extension": ".py",
      "mimetype": "text/x-python",
      "name": "python",
      "nbconvert_exporter": "python",
      "pygments_lexer": "ipython3",
      "version": "3.6.3"
    }
  },
  "nbformat": 4,
  "nbformat_minor": 0
}
