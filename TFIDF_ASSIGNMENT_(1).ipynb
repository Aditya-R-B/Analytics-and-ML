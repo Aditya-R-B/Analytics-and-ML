{
  "cells": [
    {
      "cell_type": "markdown",
      "metadata": {
        "id": "0pl1wL9MVqe1"
      },
      "source": [
        "# TFIDF VECTORIZER ASSIGNMENT\n"
      ]
    },
    {
      "cell_type": "markdown",
      "metadata": {
        "id": "o0ix2W5Big0x"
      },
      "source": [
        "<font face='georgia'>\n",
        "    \n",
        "   <h4><strong>What does tf-idf mean?</strong></h4>\n",
        "\n",
        "   <p>    \n",
        "Tf-idf stands for <em>term frequency-inverse document frequency</em>, and the tf-idf weight is a weight often used in information retrieval and text mining. This weight is a statistical measure used to evaluate how important a word is to a document in a collection or corpus. The importance increases proportionally to the number of times a word appears in the document but is offset by the frequency of the word in the corpus. Variations of the tf-idf weighting scheme are often used by search engines as a central tool in scoring and ranking a document's relevance given a user query.\n",
        "</p>\n",
        "    \n",
        "   <p>\n",
        "One of the simplest ranking functions is computed by summing the tf-idf for each query term; many more sophisticated ranking functions are variants of this simple model.\n",
        "</p>\n",
        "    \n",
        "   <p>\n",
        "Tf-idf can be successfully used for stop-words filtering in various subject fields including text summarization and classification.\n",
        "</p>\n",
        "    \n",
        "</font>"
      ]
    },
    {
      "cell_type": "markdown",
      "metadata": {
        "id": "Z9mkME-2ipn0"
      },
      "source": [
        "<font face='georgia'>\n",
        "    <h4><strong>How to Compute:</strong></h4>\n",
        "\n",
        "Typically, the tf-idf weight is composed by two terms: the first computes the normalized Term Frequency (TF), aka. the number of times a word appears in a document, divided by the total number of words in that document; the second term is the Inverse Document Frequency (IDF), computed as the logarithm of the number of the documents in the corpus divided by the number of documents where the specific term appears.\n",
        "\n",
        " <ul>\n",
        "    <li>\n",
        "<strong>TF:</strong> Term Frequency, which measures how frequently a term occurs in a document. Since every document is different in length, it is possible that a term would appear much more times in long documents than shorter ones. Thus, the term frequency is often divided by the document length (aka. the total number of terms in the document) as a way of normalization: <br>\n",
        "\n",
        "$TF(t) = \\frac{\\text{Number of times term t appears in a document}}{\\text{Total number of terms in the document}}.$\n",
        "</li>\n",
        "<li>\n",
        "<strong>IDF:</strong> Inverse Document Frequency, which measures how important a term is. While computing TF, all terms are considered equally important. However it is known that certain terms, such as \"is\", \"of\", and \"that\", may appear a lot of times but have little importance. Thus we need to weigh down the frequent terms while scale up the rare ones, by computing the following: <br>\n",
        "\n",
        "$IDF(t) = \\log_{e}\\frac{\\text{Total  number of documents}} {\\text{Number of documents with term t in it}}.$\n",
        "for numerical stabiltiy we will be changing this formula little bit\n",
        "$IDF(t) = \\log_{e}\\frac{\\text{Total  number of documents}} {\\text{Number of documents with term t in it}+1}.$\n",
        "</li>\n",
        "</ul>\n",
        "\n",
        "<br>\n",
        "<h4><strong>Example</strong></h4>\n",
        "<p>\n",
        "\n",
        "Consider a document containing 100 words wherein the word cat appears 3 times. The term frequency (i.e., tf) for cat is then (3 / 100) = 0.03. Now, assume we have 10 million documents and the word cat appears in one thousand of these. Then, the inverse document frequency (i.e., idf) is calculated as log(10,000,000 / 1,000) = 4. Thus, the Tf-idf weight is the product of these quantities: 0.03 * 4 = 0.12.\n",
        "</p>\n",
        "</font>"
      ]
    },
    {
      "cell_type": "markdown",
      "metadata": {
        "id": "d0XUuQ-qitqp"
      },
      "source": [
        "# Task-1"
      ]
    },
    {
      "cell_type": "markdown",
      "metadata": {
        "id": "4obCWoMhi2O-"
      },
      "source": [
        "<font face='georgia'>\n",
        "    <h4><strong>1. Build a TFIDF Vectorizer & compare its results with Sklearn:</strong></h4>\n",
        "\n",
        "<ul>\n",
        "    <li> As a part of this task you will be implementing TFIDF vectorizer on a collection of text documents.</li>\n",
        "    <br>\n",
        "    <li> You should compare the results of your own implementation of TFIDF vectorizer with that of sklearns implemenation TFIDF vectorizer.</li>\n",
        "    <br>\n",
        "    <li> Sklearn does few more tweaks in the implementation of its version of TFIDF vectorizer, so to replicate the exact results you would need to add following things to your custom implementation of tfidf vectorizer:\n",
        "       <ol>\n",
        "        <li> Sklearn has its vocabulary generated from idf sroted in alphabetical order</li>\n",
        "        <li> Sklearn formula of idf is different from the standard textbook formula. Here the constant <strong>\"1\"</strong> is added to the numerator and denominator of the idf as if an extra document was seen containing every term in the collection exactly once, which prevents zero divisions.\n",
        "            \n",
        " $IDF(t) = 1+\\log_{e}\\frac{1\\text{ }+\\text{ Total  number of documents in collection}} {1+\\text{Number of documents with term t in it}}.$\n",
        "        </li>\n",
        "        <li> Sklearn applies L2-normalization on its output matrix.</li>\n",
        "        <li> The final output of sklearn tfidf vectorizer is a sparse matrix.</li>\n",
        "    </ol>\n",
        "    <br>\n",
        "    <li>Steps to approach this task:\n",
        "    <ol>\n",
        "        <li> You would have to write both fit and transform methods for your custom implementation of tfidf vectorizer.</li>\n",
        "        <li> Print out the alphabetically sorted voacb after you fit your data and check if its the same as that of the feature names from sklearn tfidf vectorizer. </li>\n",
        "        <li> Print out the idf values from your implementation and check if its the same as that of sklearns tfidf vectorizer idf values. </li>\n",
        "        <li> Once you get your voacb and idf values to be same as that of sklearns implementation of tfidf vectorizer, proceed to the below steps. </li>\n",
        "        <li> Make sure the output of your implementation is a sparse matrix. Before generating the final output, you need to normalize your sparse matrix using L2 normalization. You can refer to this link https://scikit-learn.org/stable/modules/generated/sklearn.preprocessing.normalize.html </li>\n",
        "        <li> After completing the above steps, print the output of your custom implementation and compare it with sklearns implementation of tfidf vectorizer.</li>\n",
        "        <li> To check the output of a single document in your collection of documents,  you can convert the sparse matrix related only to that document into dense matrix and print it.</li>\n",
        "        </ol>\n",
        "    </li>\n",
        "    <br>\n",
        "   </ul>\n",
        "\n",
        "  <p> <font color=\"#e60000\"><strong>Note-1: </strong></font> All the necessary outputs of sklearns tfidf vectorizer have been provided as reference in this notebook, you can compare your outputs as mentioned in the above steps, with these outputs.<br>\n",
        "   <font color=\"#e60000\"><strong>Note-2: </strong></font> The output of your custom implementation and that of sklearns implementation would match only with the collection of document strings provided to you as reference in this notebook. It would not match for strings that contain capital letters or punctuations, etc, because sklearn version of tfidf vectorizer deals with such strings in a different way. To know further details about how sklearn tfidf vectorizer works with such string, you can always refer to its official documentation.<br>\n",
        "   <font color=\"#e60000\"><strong>Note-3: </strong></font> During this task, it would be helpful for you to debug the code you write with print statements wherever necessary. But when you are finally submitting the assignment, make sure your code is readable and try not to print things which are not part of this task.\n",
        "    </p>"
      ]
    },
    {
      "cell_type": "markdown",
      "metadata": {
        "id": "EutR8-Z8hH49"
      },
      "source": [
        "### SkLearn Implementation"
      ]
    },
    {
      "cell_type": "code",
      "execution_count": null,
      "metadata": {
        "id": "pvYkwnQ1hj-K"
      },
      "outputs": [],
      "source": [
        "import warnings\n",
        "warnings.filterwarnings(\"ignore\")\n",
        "import pandas as pd\n",
        "from tqdm import tqdm\n",
        "import os\n",
        "import numpy as np"
      ]
    },
    {
      "cell_type": "code",
      "execution_count": null,
      "metadata": {
        "id": "NQ4-cAcNhv_F"
      },
      "outputs": [],
      "source": [
        "## SkLearn# Collection of string documents\n",
        "\n",
        "corpus = [\n",
        "     'this is the first document',\n",
        "     'this document is the second document',\n",
        "     'and this is the third one',\n",
        "     'is this the first document',\n",
        "]"
      ]
    },
    {
      "cell_type": "code",
      "execution_count": null,
      "metadata": {
        "id": "wFC3FnoAhQ4v"
      },
      "outputs": [],
      "source": [
        "from sklearn.feature_extraction.text import TfidfVectorizer\n",
        "vectorizer = TfidfVectorizer()\n",
        "vectorizer.fit(corpus)\n",
        "skl_output = vectorizer.transform(corpus)"
      ]
    },
    {
      "cell_type": "code",
      "execution_count": null,
      "metadata": {
        "colab": {
          "base_uri": "https://localhost:8080/"
        },
        "id": "E5hIbMnNhRgZ",
        "outputId": "393d561d-3f2c-4038-9ff3-2b994ff66365"
      },
      "outputs": [
        {
          "name": "stdout",
          "output_type": "stream",
          "text": [
            "['and', 'document', 'first', 'is', 'one', 'second', 'the', 'third', 'this']\n"
          ]
        }
      ],
      "source": [
        "# sklearn feature names, they are sorted in alphabetic order by default.\n",
        "\n",
        "print(vectorizer.get_feature_names())"
      ]
    },
    {
      "cell_type": "code",
      "execution_count": null,
      "metadata": {
        "colab": {
          "base_uri": "https://localhost:8080/"
        },
        "id": "1ftjcDm7hW1M",
        "outputId": "16a6a543-a9af-4c91-cb41-5ca48a5c6660"
      },
      "outputs": [
        {
          "name": "stdout",
          "output_type": "stream",
          "text": [
            "[1.91629073 1.22314355 1.51082562 1.         1.91629073 1.91629073\n",
            " 1.         1.91629073 1.        ]\n"
          ]
        }
      ],
      "source": [
        "# Here we will print the sklearn tfidf vectorizer idf values after applying the fit method\n",
        "# After using the fit function on the corpus the vocab has 9 words in it, and each has its idf value.\n",
        "\n",
        "print(vectorizer.idf_)"
      ]
    },
    {
      "cell_type": "code",
      "execution_count": null,
      "metadata": {
        "colab": {
          "base_uri": "https://localhost:8080/"
        },
        "id": "fh5xQldBham8",
        "outputId": "c4bc9455-e6e4-4661-dd71-270b9f56882e"
      },
      "outputs": [
        {
          "data": {
            "text/plain": [
              "(4, 9)"
            ]
          },
          "execution_count": 153,
          "metadata": {},
          "output_type": "execute_result"
        }
      ],
      "source": [
        "# shape of sklearn tfidf vectorizer output after applying transform method.\n",
        "\n",
        "skl_output.shape"
      ]
    },
    {
      "cell_type": "code",
      "execution_count": null,
      "metadata": {
        "colab": {
          "base_uri": "https://localhost:8080/"
        },
        "id": "H5gLvb32hccD",
        "outputId": "96fdb67e-831b-4a6b-fdc8-5a786c4864b2"
      },
      "outputs": [
        {
          "name": "stdout",
          "output_type": "stream",
          "text": [
            "  (0, 8)\t0.38408524091481483\n",
            "  (0, 6)\t0.38408524091481483\n",
            "  (0, 3)\t0.38408524091481483\n",
            "  (0, 2)\t0.5802858236844359\n",
            "  (0, 1)\t0.46979138557992045\n"
          ]
        }
      ],
      "source": [
        "# sklearn tfidf values for first line of the above corpus.\n",
        "# Here the output is a sparse matrix\n",
        "\n",
        "print(skl_output[0])"
      ]
    },
    {
      "cell_type": "code",
      "execution_count": null,
      "metadata": {
        "colab": {
          "base_uri": "https://localhost:8080/"
        },
        "id": "ozUM7eJ0hen1",
        "outputId": "857a7f70-a603-4b21-90f1-5581c8b20845"
      },
      "outputs": [
        {
          "name": "stdout",
          "output_type": "stream",
          "text": [
            "[[0.         0.46979139 0.58028582 0.38408524 0.         0.\n",
            "  0.38408524 0.         0.38408524]]\n"
          ]
        }
      ],
      "source": [
        "# sklearn tfidf values for first line of the above corpus.\n",
        "# To understand the output better, here we are converting the sparse output matrix to dense matrix and printing it.\n",
        "# Notice that this output is normalized using L2 normalization. sklearn does this by default.\n",
        "\n",
        "print(skl_output[0].toarray())"
      ]
    },
    {
      "cell_type": "markdown",
      "metadata": {
        "id": "WKW_qC-ch1bk"
      },
      "source": [
        "# My Implementation"
      ]
    },
    {
      "cell_type": "code",
      "execution_count": null,
      "metadata": {
        "id": "50EPDFdKjBZA"
      },
      "outputs": [],
      "source": [
        "# Write your code here.\n",
        "# Make sure its well documented and readble with appropriate comments.\n",
        "# Compare your results with the above sklearn tfidf vectorizer\n",
        "# You are not supposed to use any other library apart from the ones given below\n",
        "\n",
        "from collections import Counter\n",
        "from tqdm import tqdm\n",
        "from scipy.sparse import csr_matrix\n",
        "import math\n",
        "import operator\n",
        "from sklearn.preprocessing import normalize\n",
        "import numpy as np"
      ]
    },
    {
      "cell_type": "markdown",
      "metadata": {
        "id": "9Y9cYLpoVylQ"
      },
      "source": [
        "### CORPUS"
      ]
    },
    {
      "cell_type": "code",
      "execution_count": null,
      "metadata": {
        "id": "zutUv3zBV4eZ"
      },
      "outputs": [],
      "source": [
        "## SkLearn# Collection of string documents\n",
        "\n",
        "corpus = [\n",
        "     'this is the first document',\n",
        "     'this document is the second document',\n",
        "     'and this is the third one',\n",
        "     'is this the first document',\n",
        "]"
      ]
    },
    {
      "cell_type": "markdown",
      "metadata": {
        "id": "SjfOSMLzV_kY"
      },
      "source": [
        "# 1. FIT METHOD \n",
        "To generate a **vocabulary of unique words** as a **Python Dictionary** with Key:Value as (word:index of the word)"
      ]
    },
    {
      "cell_type": "code",
      "execution_count": null,
      "metadata": {
        "colab": {
          "base_uri": "https://localhost:8080/"
        },
        "id": "F1qYEYuBWA0q",
        "outputId": "6332466e-ccf6-4aae-f2c9-5cc053b1a084"
      },
      "outputs": [
        {
          "name": "stdout",
          "output_type": "stream",
          "text": [
            "{'and': 0, 'document': 1, 'first': 2, 'is': 3, 'one': 4, 'second': 5, 'the': 6, 'third': 7, 'this': 8}\n"
          ]
        }
      ],
      "source": [
        "from tqdm import tqdm # tqdm is a library that helps us to visualize the runtime of for loop.#https://tqdm.github.io/\n",
        "# tqdm accepts only a list of sentences\n",
        "def fit(data):    \n",
        "    unique_words_set = set() # at first we will initialize an empty set\n",
        "    # check if its list type or not\n",
        "    if isinstance(data, (list,)):\n",
        "        for row in data: # for each review in the dataset\n",
        "            for word in row.split(\" \"): # for each word in the review. #split method converts a string into list of words\n",
        "                if len(word) < 2:\n",
        "                    continue\n",
        "                unique_words_set.add(word)\n",
        "        unique_words_list = sorted(list(unique_words_set))\n",
        "        vocab_1 = {j:i for i,j in enumerate(unique_words_list)}\n",
        "        \n",
        "        return vocab_1\n",
        "    else:\n",
        "        print(\"you need to pass a list of sentence\")\n",
        "\n",
        "vocab= fit(corpus)\n",
        "print (vocab)"
      ]
    },
    {
      "cell_type": "markdown",
      "metadata": {
        "id": "RpOQWSNtWDQW"
      },
      "source": [
        "Now we have a dictionary of unique words from the corpus, which is named as **vocab**"
      ]
    },
    {
      "cell_type": "markdown",
      "metadata": {
        "id": "Q6qC5k1kWPnl"
      },
      "source": [
        "# 2. TRANSFORM METHOD\n",
        "\n",
        "To Generate '**Bag Of Words**' (Frequency of word occurences type B.O.W) vector (Converting a text into a numerical vector) \n",
        "\n",
        "*   To Generate 'Bag of Words' (Number of word occurences type bag of words)vector of each document in the corpus.\n",
        "\n",
        "* The **Transform function** returns a sparse matrix using csr_matrix representation (A dense matrix stored can be converted into a sparse matrix as  a CSR representation by using the csr_matrix() function).\n"
      ]
    },
    {
      "cell_type": "code",
      "execution_count": null,
      "metadata": {
        "colab": {
          "base_uri": "https://localhost:8080/"
        },
        "id": "lXx_oZ3RWSS5",
        "outputId": "3045f243-3610-4225-b00b-5e88e7791b43"
      },
      "outputs": [
        {
          "name": "stdout",
          "output_type": "stream",
          "text": [
            "['and', 'document', 'first', 'is', 'one', 'second', 'the', 'third', 'this']\n"
          ]
        },
        {
          "name": "stderr",
          "output_type": "stream",
          "text": [
            "100%|████████████████████████████████████████████████████████████████████████████████████████████| 4/4 [00:00<?, ?it/s]"
          ]
        },
        {
          "name": "stdout",
          "output_type": "stream",
          "text": [
            "[[0 1 1 1 0 0 1 0 1]\n",
            " [0 2 0 1 0 1 1 0 1]\n",
            " [1 0 0 1 1 0 1 1 1]\n",
            " [0 1 1 1 0 0 1 0 1]]\n"
          ]
        },
        {
          "name": "stderr",
          "output_type": "stream",
          "text": [
            "\n"
          ]
        }
      ],
      "source": [
        "# https://stackoverflow.com/questions/9919604/efficiently-calculate-word-frequency-in-a-string\n",
        "# https://docs.scipy.org/doc/scipy-0.19.0/reference/generated/scipy.sparse.csr_matrix.html\n",
        "# note that we are we need to send the preprocessing text here, we have not inlcuded the processing\n",
        "\n",
        "from collections import Counter\n",
        "from scipy.sparse import csr_matrix\n",
        "\n",
        "def transform(data,vocab):\n",
        "    rows = []\n",
        "    columns = []\n",
        "    values = []\n",
        "    if isinstance(data, (list,)):\n",
        "        for index, row in enumerate(tqdm(data)): # for each document in the data\n",
        "            # it returns a dict type object where key is the word and values is its frequency- {word:frequency}\n",
        "            word_frequency = dict(Counter(row.split()))\n",
        "            # for every unique word in the document\n",
        "            for word, frequency in word_frequency.items():  # for every unique word in the review.                \n",
        "                if len(word) < 2:\n",
        "                    continue\n",
        "                # we check if the word is there in the vocabulary that we built using fit() function\n",
        "                # dict.get() function will return the values, but if the key doesn't exist it will return -1\n",
        "\n",
        "                column_index = vocab.get(word, -1) # retreving the dimension number of a word as column index\n",
        "                \n",
        "                # if the word exists\n",
        "                if column_index !=-1:\n",
        "                    # we store the index of the document\n",
        "                    rows.append(index)\n",
        "                    # Next we store the dimensions of the word\n",
        "                    columns.append(column_index)\n",
        "                    # At last we store the frequency of the word\n",
        "                    values.append(frequency)\n",
        "        return csr_matrix((values, (rows,columns)), shape=(len(data),len(vocab)))\n",
        "    else:\n",
        "        print(\"you must pass a list of strings\")\n",
        "\n",
        "corpus = [\n",
        "     'this is the first document',\n",
        "     'this document is the second document',\n",
        "     'and this is the third one',\n",
        "     'is this the first document',\n",
        "]\n",
        "\n",
        "vocab= fit(corpus)\n",
        "\n",
        "Key= list(vocab.keys())\n",
        "print(Key)\n",
        "Sparse_Matrix= transform(corpus, vocab).toarray()\n",
        "print(Sparse_Matrix)"
      ]
    },
    {
      "cell_type": "markdown",
      "metadata": {
        "id": "FStnqCnpWbsl"
      },
      "source": [
        "This is a **Sparse Matrix Reperesentation** of the **Bag of Words** using frequency of words."
      ]
    },
    {
      "cell_type": "markdown",
      "metadata": {
        "id": "b_Jk0jIBWcvV"
      },
      "source": [
        "# 3. CALCULATION OF IDF (Inverse Document Frequency)\n",
        "\n",
        "**Formula** : $IDF(t) = 1+ \\log_{e}\\frac{\\text{Total  number of documents+1}} {\\text{Number of documents with term t in it}+1}.$\n",
        "(according to sklearn)"
      ]
    },
    {
      "cell_type": "code",
      "execution_count": null,
      "metadata": {
        "colab": {
          "base_uri": "https://localhost:8080/"
        },
        "id": "Ltz12c7WWguG",
        "outputId": "42052c97-ecd1-4f6e-e8a0-0b2189892c4e"
      },
      "outputs": [
        {
          "name": "stdout",
          "output_type": "stream",
          "text": [
            "{'and': 1.916290731874155, 'document': 1.2231435513142097, 'first': 1.5108256237659907, 'is': 1.0, 'one': 1.916290731874155, 'second': 1.916290731874155, 'the': 1.0, 'third': 1.916290731874155, 'this': 1.0}\n"
          ]
        }
      ],
      "source": [
        "import math\n",
        "\n",
        "def IDF(vocabulary):\n",
        "  #1. split each sentence in the corpus into a list of words called word_matrix\n",
        "  word_matrix=[]\n",
        "  for sentence in corpus:\n",
        "    words_in_sentence=set()\n",
        "    l= sentence.split(' ')\n",
        "    for word in l:\n",
        "      w=word.lower()\n",
        "      if len(word)<2:\n",
        "        continue\n",
        "      words_in_sentence.add(w)\n",
        "    lst= list(words_in_sentence)\n",
        "    word_matrix.append(lst)\n",
        "\n",
        "  #2. print the keys in the vocab\n",
        "  Key= list(vocab.keys())\n",
        "\n",
        "  #3. Calculation of IDF of each unique word in the vocab\n",
        "  count=0  #initialize count=0\n",
        "  idf_list=[]\n",
        "  for words in Key:\n",
        "    w1=words.lower()\n",
        "    for sentences in word_matrix:\n",
        "      for word in sentences:\n",
        "        if w1==word:\n",
        "          count+=1\n",
        "          idf= 1+ math.log((len(word_matrix)+1)/(count+1))\n",
        "    idf_list.append(idf)\n",
        "    count=0 #re-assign count=0 after every iteration of a unique word\n",
        "  idf_dict= dict(zip(Key,idf_list)) #forms a dictionary where key:value = {unique word: idf}\n",
        "  return idf_dict \n",
        "\n",
        "corpus = [\n",
        "     'this is the first document',\n",
        "     'this document is the second document',\n",
        "     'and this is the third one',\n",
        "     'is this the first document',\n",
        "]\n",
        "\n",
        "IDF_values= IDF(corpus)\n",
        "#Print idf values of each unique word in the vocabulary\n",
        "print(IDF_values)"
      ]
    },
    {
      "cell_type": "markdown",
      "metadata": {
        "id": "ieljr_6MjWMO"
      },
      "source": [
        "Here we have the a dictionary named **IDF_values** containing each unique word as key and its IDF as value."
      ]
    },
    {
      "cell_type": "markdown",
      "metadata": {
        "id": "OVfBLXPdWm0I"
      },
      "source": [
        "# 4. CALCULATION OF TFIDF\n",
        "**TFIDF**= TF(word in each document)* IDF(word)\n",
        "\n",
        "Where **Term Fruequency**= \n",
        "$TF(t) = \\frac{\\text{Number of times term t appears in a document}}{\\text{Total number of terms in the document}}.$"
      ]
    },
    {
      "cell_type": "code",
      "execution_count": null,
      "metadata": {
        "colab": {
          "base_uri": "https://localhost:8080/"
        },
        "id": "467f30KbWv2E",
        "outputId": "4867f310-1e64-4346-b558-144fab2da0fd"
      },
      "outputs": [
        {
          "name": "stderr",
          "output_type": "stream",
          "text": [
            "100%|████████████████████████████████████████████████████████████████████████████████████████████| 4/4 [00:00<?, ?it/s]"
          ]
        },
        {
          "name": "stdout",
          "output_type": "stream",
          "text": [
            "  (0, 1)\t0.4697913855799205\n",
            "  (0, 2)\t0.580285823684436\n",
            "  (0, 3)\t0.3840852409148149\n",
            "  (0, 6)\t0.3840852409148149\n",
            "  (0, 8)\t0.3840852409148149\n",
            "__________________________________________________\n",
            "[[0.         0.46979139 0.58028582 0.38408524 0.         0.\n",
            "  0.38408524 0.         0.38408524]]\n",
            "__________________________________________________\n",
            "The shape of the resultant Matrix is (4, 9)\n"
          ]
        },
        {
          "name": "stderr",
          "output_type": "stream",
          "text": [
            "\n"
          ]
        }
      ],
      "source": [
        "from sklearn import preprocessing\n",
        "def TFIDF(data,vocab,IDF_values):\n",
        "    rows = []\n",
        "    columns = []\n",
        "    values = []\n",
        "    if isinstance(data, (list,)):\n",
        "        for row_index, row in enumerate(tqdm(data)): # for each document in the data\n",
        "            word_frequency_1 = dict(Counter(row.split()))\n",
        "            for word, frequency in word_frequency_1.items():                \n",
        "                if len(word) < 2:\n",
        "                    continue\n",
        "\n",
        "#Calculation of Term Frequency\n",
        "                term_freq= word_frequency_1.get(word)/ len(row.split())\n",
        "#Calculation of TFIDF\n",
        "                tfidf= (term_freq)*IDF_values.get(word)\n",
        "                column_index = vocab.get(word, -1) # retreving the dimension number of a word as column index\n",
        "                if column_index !=-1:\n",
        "                    rows.append(row_index)\n",
        "                    columns.append(column_index)\n",
        "                    values.append(tfidf)\n",
        "        sparse_matrix= csr_matrix((values, (rows,columns)), shape=(len(data),len(IDF_values)))\n",
        "        return sparse_matrix, preprocessing.normalize(sparse_matrix, norm='l2', axis=1, copy=False, return_norm=False)\n",
        "    else:\n",
        "        print(\"you must pass a list of strings\")\n",
        "\n",
        "TFIDF_Matrix_sparse, TFIDF_Matrix_dense =TFIDF(corpus,vocab,IDF_values)\n",
        "print(TFIDF_Matrix_sparse[0]) #printing only the first row of sparse matrix\n",
        "print('_'*50)\n",
        "\n",
        "matrix=(TFIDF_Matrix_dense[0].toarray()) #Only the first row of the dense matrix\n",
        "print(matrix)\n",
        "print('_'*50)\n",
        "print(\"The shape of the resultant Matrix is\", TFIDF_Matrix.shape) #Shape of full TFIDF  Matrix\n"
      ]
    },
    {
      "cell_type": "markdown",
      "metadata": {
        "id": "tf-0TTduj-D6"
      },
      "source": [
        "#### The resultant sparse matrix is exactly the same as the output by Sklearn implementation."
      ]
    },
    {
      "cell_type": "markdown",
      "metadata": {
        "id": "QELdpX1okR8s"
      },
      "source": [
        "# Task-2"
      ]
    },
    {
      "cell_type": "markdown",
      "metadata": {
        "id": "hVfK6e9ykbi2"
      },
      "source": [
        "<font face='georgia'>\n",
        "    <h4><strong>2. Implement max features functionality:</strong></h4>\n",
        "\n",
        "<ul>\n",
        "    <li> As a part of this task you have to modify your fit and transform functions so that your vocab will contain only 50 terms with top idf scores.</li>\n",
        "    <br>\n",
        "    <li>This task is similar to your previous task, just that here your vocabulary is limited to only top 50 features names based on their idf values. Basically your output will have exactly 50 columns and the number of rows will depend on the number of documents you have in your corpus.</li>\n",
        "    <br>\n",
        "    <li>Here you will be give a pickle file, with file name <strong>cleaned_strings</strong>. You would have to load the corpus from this file and use it as input to your tfidf vectorizer.</li>\n",
        "    <br>\n",
        "    <li>Steps to approach this task:\n",
        "    <ol>\n",
        "        <li> You would have to write both fit and transform methods for your custom implementation of tfidf vectorizer, just like in the previous task. Additionally, here you have to limit the number of features generated to 50 as described above.</li>\n",
        "        <li> Now sort your vocab based in descending order of idf values and print out the words in the sorted voacb after you fit your data. Here you should be getting only 50 terms in your vocab. And make sure to print idf values for each term in your vocab. </li>\n",
        "        <li> Make sure the output of your implementation is a sparse matrix. Before generating the final output, you need to normalize your sparse matrix using L2 normalization. You can refer to this link https://scikit-learn.org/stable/modules/generated/sklearn.preprocessing.normalize.html </li>\n",
        "        <li> Now check the output of a single document in your collection of documents,  you can convert the sparse matrix related only to that document into dense matrix and print it. And this dense matrix should contain 1 row and 50 columns. </li>\n",
        "        </ol>\n",
        "    </li>\n",
        "    <br>\n",
        "   </ul>"
      ]
    },
    {
      "cell_type": "code",
      "execution_count": null,
      "metadata": {
        "colab": {
          "base_uri": "https://localhost:8080/",
          "height": 235
        },
        "id": "mXLFW5x1k617",
        "outputId": "b997df15-964a-47f0-c6ff-c0ae94965aaf"
      },
      "outputs": [
        {
          "name": "stdout",
          "output_type": "stream",
          "text": [
            "Number of documents in corpus =  746\n"
          ]
        }
      ],
      "source": [
        "# Below is the code to load the cleaned_strings pickle file provided\n",
        "# Here corpus is of list type\n",
        "\n",
        "import pickle\n",
        "with open('cleaned_strings', 'rb') as f:\n",
        "    corpus = pickle.load(f)\n",
        "    \n",
        "# printing the length of the corpus loaded\n",
        "print(\"Number of documents in corpus = \",len(corpus))"
      ]
    },
    {
      "cell_type": "code",
      "execution_count": null,
      "metadata": {
        "id": "WNUaTCpQlCb8"
      },
      "outputs": [],
      "source": [
        "# Write your code here.\n",
        "# Try not to hardcode any values.\n",
        "# Make sure its well documented and readble with appropriate comments."
      ]
    },
    {
      "cell_type": "markdown",
      "metadata": {
        "id": "gMn6pJNY9dba"
      },
      "source": [
        "## 1. Fit Method\n",
        "\n",
        "Generates a dictionary where k:v = unique word: index"
      ]
    },
    {
      "cell_type": "code",
      "execution_count": null,
      "metadata": {
        "id": "OrQo7rsJlEgp",
        "outputId": "0eb16bc4-80a7-417d-fdde-b7f2b342dbc6"
      },
      "outputs": [
        {
          "name": "stdout",
          "output_type": "stream",
          "text": [
            "{'happiness': 0, 'although': 1, 'monolog': 2, 'stereotypically': 3, 'clients': 4, 'colours': 5, 'accolades': 6, 'contributing': 7, 'underrated': 8, 'marriage': 9, 'convention': 10, 'situations': 11, 'supposedly': 12, 'etc': 13, 'inspiration': 14, 'disgusting': 15, 'backdrop': 16, 'guilt': 17, 'friends': 18, 'unfolds': 19, 'impression': 20, 'slow': 21, 'movies': 22, 'angeles': 23, 'social': 24, 'detailing': 25, 'dry': 26, 'faces': 27, 'ursula': 28, 'intentions': 29, 'reviewer': 30, 'mature': 31, 'virus': 32, 'possible': 33, 'away': 34, 'task': 35, 'competent': 36, 'occupied': 37, 'catchy': 38, 'surely': 39, 'artless': 40, 'smack': 41, 'avoided': 42, 'coach': 43, 'peter': 44, 'woa': 45, 'brief': 46, 'treachery': 47, 'stick': 48, 'dislike': 49, 'lucio': 50, 'gorman': 51, 'helping': 52, 'hold': 53, 'ticker': 54, 'crocs': 55, 'homework': 56, 'tension': 57, 'father': 58, 'develop': 59, 'apart': 60, 'comical': 61, 'plmer': 62, 'barking': 63, 'post': 64, 'grimes': 65, 'stinker': 66, 'heartwarming': 67, 'sidelined': 68, 'paper': 69, 'class': 70, 'grace': 71, 'savant': 72, 'highlights': 73, 'composed': 74, 'animation': 75, 'cold': 76, 'total': 77, 'watching': 78, 'crayons': 79, 'portrayed': 80, 'easily': 81, 'deep': 82, 'moments': 83, 'contrast': 84, 'constantine': 85, 'agreed': 86, 'fi': 87, 'zombie': 88, 'sharply': 89, 'washing': 90, 'brain': 91, 'addition': 92, 'drago': 93, 'zillion': 94, 'title': 95, 'interested': 96, 'attention': 97, 'wrote': 98, 'doomed': 99, 'related': 100, 'taste': 101, 'boring': 102, 'scared': 103, 'stanwyck': 104, 'movie': 105, 'phrase': 106, 'desperation': 107, 'settings': 108, 'sells': 109, 'woven': 110, 'ed': 111, 'admitted': 112, 'premise': 113, 'mystifying': 114, 'aurv': 115, 'hope': 116, 'pitiful': 117, 'drive': 118, 'unique': 119, 'bunch': 120, 'schilling': 121, 'train': 122, 'murder': 123, 'remarkable': 124, 'perfected': 125, 'expecting': 126, 'space': 127, 'crew': 128, 'credit': 129, 'knew': 130, 'filmiing': 131, 'hes': 132, 'making': 133, 'quaid': 134, 'thoughts': 135, 'astonishingly': 136, 'gere': 137, 'baby': 138, 'famed': 139, 'walk': 140, 'intrigued': 141, 'worked': 142, 'appalling': 143, 'underlying': 144, 'sequel': 145, 'cheaply': 146, 'oscar': 147, 'emotions': 148, 'aged': 149, 'kathy': 150, 'regret': 151, 'awkwardly': 152, 'surprised': 153, 'shelf': 154, 'distant': 155, 'negulesco': 156, 'handled': 157, 'marion': 158, 'lacks': 159, 'may': 160, 'dominated': 161, 'gibberish': 162, 'brigand': 163, 'pace': 164, 'lilli': 165, 'christmas': 166, 'violin': 167, 'bergen': 168, 'handles': 169, 'twice': 170, 'thing': 171, 'teaches': 172, 'cable': 173, 'suffered': 174, 'miserably': 175, 'morgan': 176, 'bring': 177, 'ireland': 178, 'bombardments': 179, 'issue': 180, 'dialog': 181, 'manna': 182, 'duris': 183, 'microsoft': 184, 'punishment': 185, 'commands': 186, 'rescue': 187, 'shot': 188, 'dee': 189, 'improvement': 190, 'gadget': 191, 'none': 192, 'bonus': 193, 'emily': 194, 'ponyo': 195, 'debut': 196, 'since': 197, 'sibling': 198, 'insult': 199, 'opened': 200, 'linda': 201, 'william': 202, 'terror': 203, 'hankies': 204, 'frost': 205, 'unpredictability': 206, 'dialogue': 207, 'purity': 208, 'jerry': 209, 'loewenhielm': 210, 'titta': 211, 'estevez': 212, 'ass': 213, 'unrealistic': 214, 'film': 215, 'offend': 216, 'clever': 217, 'widmark': 218, 'flowed': 219, 'existential': 220, 'knightley': 221, 'days': 222, 'maker': 223, 'telephone': 224, 'acting': 225, 'aired': 226, 'spew': 227, 'humour': 228, 'impressed': 229, 'carry': 230, 'unaccompanied': 231, 'luv': 232, 'subtitles': 233, 'la': 234, 'fausa': 235, 'plane': 236, 'ironically': 237, 'version': 238, 'fest': 239, 'three': 240, 'cute': 241, 'guests': 242, 'man': 243, 'silent': 244, 'sick': 245, 'suspense': 246, 'thinking': 247, 'jessice': 248, 'shattered': 249, 'freshness': 250, 'helen': 251, 'sucks': 252, 'warmth': 253, 'expected': 254, 'predictably': 255, 'sandra': 256, 'romantic': 257, 'sub': 258, 'even': 259, 'horse': 260, 'personalities': 261, 'recover': 262, 'hoffman': 263, 'basic': 264, 'haggis': 265, 'cars': 266, 'previous': 267, 'harris': 268, 'unfaithful': 269, 'cheesiness': 270, 'fame': 271, 'least': 272, 'overdue': 273, 'phantasm': 274, 'attempted': 275, 'bat': 276, 'television': 277, 'sublime': 278, 'sabotages': 279, 'alongside': 280, 'costumes': 281, 'forced': 282, 'plot': 283, 'smoothly': 284, 'dimensional': 285, 'different': 286, 'unconditional': 287, 'public': 288, 'earth': 289, 'junkyard': 290, 'kind': 291, 'mindblowing': 292, 'enchanting': 293, 'higher': 294, 'speed': 295, 'array': 296, 'locations': 297, 'whiny': 298, 'machine': 299, 'stay': 300, 'rocked': 301, 'crocdodile': 302, 'seen': 303, 'dvd': 304, 'viewing': 305, 'song': 306, 'length': 307, 'powerful': 308, 'past': 309, 'later': 310, 'howell': 311, 'disappointed': 312, 'muddled': 313, 'amazed': 314, 'hockey': 315, 'unrestrained': 316, 'composition': 317, 'wayne': 318, 'end': 319, 'foolish': 320, 'garbage': 321, 'crash': 322, 'think': 323, 'boost': 324, 'goalies': 325, 'creativity': 326, 'aspects': 327, 'children': 328, 'energy': 329, 'jessica': 330, 'positive': 331, 'di': 332, 'ghibili': 333, 'known': 334, 'enjoyable': 335, 'hero': 336, 'salesman': 337, 'conflict': 338, 'nice': 339, 'justice': 340, 'begin': 341, 'foreigner': 342, 'derivative': 343, 'victor': 344, 'part': 345, 'black': 346, 'nostalgia': 347, 'popcorn': 348, 'seamless': 349, 'screenplay': 350, 'ridiculousness': 351, 'guess': 352, 'energetic': 353, 'interpretations': 354, 'control': 355, 'imaginative': 356, 'details': 357, 'genuine': 358, 'body': 359, 'voice': 360, 'discovery': 361, 'viewer': 362, 'serious': 363, 'behind': 364, 'amazing': 365, 'seeing': 366, 'found': 367, 'unconvincing': 368, 'told': 369, 'africa': 370, 'costs': 371, 'lange': 372, 'terms': 373, 'angel': 374, 'bechard': 375, 'legendary': 376, 'room': 377, 'clich': 378, 'scares': 379, 'fingernails': 380, 'effective': 381, 'director': 382, 'yardley': 383, 'produce': 384, 'frustration': 385, 'mouse': 386, 'aerial': 387, 'ben': 388, 'realised': 389, 'twist': 390, 'union': 391, 'insane': 392, 'network': 393, 'hell': 394, 'fascinated': 395, 'stupidity': 396, 'legal': 397, 'exceptionally': 398, 'photography': 399, 'atrocity': 400, 'care': 401, 'regrettable': 402, 'par': 403, 'taking': 404, 'extremely': 405, 'cliche': 406, 'colored': 407, 'cole': 408, 'atrocious': 409, 'sensibility': 410, 'seperate': 411, 'turkey': 412, 'sounds': 413, 'momentum': 414, 'excerpts': 415, 'unlockable': 416, 'ever': 417, 'hernandez': 418, 'havilland': 419, 'blake': 420, 'deserving': 421, 'abstruse': 422, 'thus': 423, 'throwback': 424, 'miserable': 425, 'irons': 426, 'tuneful': 427, 'cartoons': 428, 'always': 429, 'teen': 430, 'wanted': 431, 'exemplars': 432, 'simplifying': 433, 'kevin': 434, 'keeps': 435, 'roller': 436, 'snow': 437, 'forces': 438, 'along': 439, 'fox': 440, 'consider': 441, 'unintentionally': 442, 'ebola': 443, 'bakery': 444, 'seriously': 445, 'sake': 446, 'distract': 447, 'anything': 448, 'spacek': 449, 'check': 450, 'member': 451, 'came': 452, 'experience': 453, 'feel': 454, 'theme': 455, 'triumphed': 456, 'pleasing': 457, 'entertaining': 458, 'nevertheless': 459, 'way': 460, 'compelling': 461, 'collect': 462, 'soap': 463, 'lesser': 464, 'manages': 465, 'fine': 466, 'evokes': 467, 'computer': 468, 'first': 469, 'moving': 470, 'trash': 471, 'add': 472, 'accents': 473, 'budget': 474, 'scene': 475, 'force': 476, 'coming': 477, 'tears': 478, 'generic': 479, 'receive': 480, 'tale': 481, 'narrative': 482, 'watchable': 483, 'product': 484, 'finale': 485, 'logic': 486, 'angelina': 487, 'embarrassing': 488, 'football': 489, 'burton': 490, 'central': 491, 'renowned': 492, 'screened': 493, 'studio': 494, 'instruments': 495, 'wonderful': 496, 'twirling': 497, 'pathetic': 498, 'engaging': 499, 'bag': 500, 'aspect': 501, 'ugly': 502, 'strange': 503, 'character': 504, 'mickey': 505, 'grim': 506, 'strives': 507, 'suited': 508, 'calls': 509, 'gotten': 510, 'delivered': 511, 'austen': 512, 'straw': 513, 'gem': 514, 'deal': 515, 'jack': 516, 'originality': 517, 'acclaimed': 518, 'meaning': 519, 'potted': 520, 'truth': 521, 'disturbing': 522, 'propaganda': 523, 'classical': 524, 'hip': 525, 'ranks': 526, 'heads': 527, 'actresses': 528, 'modern': 529, 'nevsky': 530, 'span': 531, 'next': 532, 'thrilled': 533, 'find': 534, 'helms': 535, 'bored': 536, 'relaxing': 537, 'gerardo': 538, 'fumbling': 539, 'psychological': 540, 'enterprise': 541, 'non': 542, 'pile': 543, 'morons': 544, 'peculiarity': 545, 'changes': 546, 'involved': 547, 'losing': 548, 'mansonites': 549, 'masterful': 550, 'release': 551, 'website': 552, 'photograph': 553, 'males': 554, 'empowerment': 555, 'huge': 556, 'street': 557, 'prejudice': 558, 'sorrentino': 559, 'bendingly': 560, 'describe': 561, 'boogeyman': 562, 'yeah': 563, 'working': 564, 'grew': 565, 'performance': 566, 'smells': 567, 'qu': 568, 'team': 569, 'sit': 570, 'downs': 571, 'tolerate': 572, 'regrettably': 573, 'lino': 574, 'forget': 575, 'pulls': 576, 'wont': 577, 'casted': 578, 'nervous': 579, 'tell': 580, 'splendid': 581, 'offers': 582, 'actors': 583, 'player': 584, 'custer': 585, 'perfectly': 586, 'punched': 587, 'toons': 588, 'natural': 589, 'constructed': 590, 'knocked': 591, 'level': 592, 'fear': 593, 'merit': 594, 'cheerfull': 595, 'needlessly': 596, 'badly': 597, 'struck': 598, 'comedy': 599, 'piece': 600, 'agree': 601, 'hollander': 602, 'delivers': 603, 'footage': 604, 'linear': 605, 'steele': 606, 'camera': 607, 'belmondo': 608, 'distressed': 609, 'concentrate': 610, 'lugosi': 611, 'drag': 612, 'comments': 613, 'people': 614, 'thick': 615, 'shots': 616, 'user': 617, 'depends': 618, 'gain': 619, 'reasonable': 620, 'ho': 621, 'elegant': 622, 'ultra': 623, 'killer': 624, 'rips': 625, 'wouldnt': 626, 'stereotypes': 627, 'typical': 628, 'uncalled': 629, 'built': 630, 'living': 631, 'pay': 632, 'humor': 633, 'characterisation': 634, 'credible': 635, 'amateurish': 636, 'fodder': 637, 'witty': 638, 'gloriously': 639, 'worth': 640, 'chills': 641, 'courtroom': 642, 'lieutenant': 643, 'journey': 644, 'upa': 645, 'fields': 646, 'understatement': 647, 'realistic': 648, 'enjoy': 649, 'complete': 650, 'pans': 651, 'jerky': 652, 'lines': 653, 'ready': 654, 'expansive': 655, 'talk': 656, 'gripping': 657, 'guys': 658, 'tanks': 659, 'gone': 660, 'ussr': 661, 'wish': 662, 'offer': 663, 'design': 664, 'terminology': 665, 'probably': 666, 'sweet': 667, 'idea': 668, 'row': 669, 'indescribably': 670, 'upper': 671, 'tremendous': 672, 'instead': 673, 'steamboat': 674, 'face': 675, 'dumb': 676, 'chemistry': 677, 'confirm': 678, 'fundamental': 679, 'jennifer': 680, 'charismatic': 681, 'dodge': 682, 'hosting': 683, 'trek': 684, 'fascination': 685, 'based': 686, 'whether': 687, 'radiant': 688, 'taxidermists': 689, 'juano': 690, 'short': 691, 'greatness': 692, 'continuously': 693, 'mercy': 694, 'lie': 695, 'box': 696, 'native': 697, 'vocal': 698, 'wrong': 699, 'sat': 700, 'need': 701, 'gaudi': 702, 'corny': 703, 'excellently': 704, 'biographical': 705, 'forgot': 706, 'hellish': 707, 'martin': 708, 'largely': 709, 'seuss': 710, 'cardboard': 711, 'club': 712, 'suggests': 713, 'redeemed': 714, 'turned': 715, 'surprising': 716, 'unwatchable': 717, 'community': 718, 'beautifully': 719, 'hitchcock': 720, 'truck': 721, 'became': 722, 'either': 723, 'collective': 724, 'affleck': 725, 'understand': 726, 'jealousy': 727, 'obsessed': 728, 'favourite': 729, 'worry': 730, 'cinematic': 731, 'evaluate': 732, 'complex': 733, 'giovanni': 734, 'sam': 735, 'fisted': 736, 'horrified': 737, 'fanciful': 738, 'cutouts': 739, 'loosely': 740, 'views': 741, 'technically': 742, 'wily': 743, 'dont': 744, 'farce': 745, 'art': 746, 'chilly': 747, 'list': 748, 'temperaments': 749, 'warn': 750, 'tender': 751, 'slideshow': 752, 'ratings': 753, 'effects': 754, 'know': 755, 'issues': 756, 'circumstances': 757, 'hackneyed': 758, 'stage': 759, 'feature': 760, 'owls': 761, 'small': 762, 'emilio': 763, 'war': 764, 'angry': 765, 'back': 766, 'strident': 767, 'decisions': 768, 'greatest': 769, 'brilliance': 770, 'home': 771, 'gently': 772, 'strong': 773, 'borderlines': 774, 'possibly': 775, 'life': 776, 'latched': 777, 'applause': 778, 'intensity': 779, 'nerves': 780, 'dealt': 781, 'bertolucci': 782, 'ballet': 783, 'lance': 784, 'however': 785, 'lead': 786, 'psychotic': 787, 'reflected': 788, 'condescends': 789, 'weak': 790, 'bought': 791, 'applauded': 792, 'inexplicable': 793, 'wartime': 794, 'convincing': 795, 'uplifting': 796, 'learn': 797, 'aesthetically': 798, 'focus': 799, 'value': 800, 'anguish': 801, 'adorable': 802, 'boobs': 803, 'entrance': 804, 'puzzle': 805, 'screen': 806, 'qualities': 807, 'obliged': 808, 'cases': 809, 'net': 810, 'lord': 811, 'taped': 812, 'future': 813, 'alike': 814, 'powerhouse': 815, 'leading': 816, 'theatre': 817, 'climax': 818, 'sobering': 819, 'new': 820, 'truly': 821, 'unemployed': 822, 'excruciatingly': 823, 'leaving': 824, 'phenomenal': 825, 'bonuses': 826, 'dropped': 827, 'imagine': 828, 'rough': 829, 'want': 830, 'minutes': 831, 'solving': 832, 'neighbour': 833, 'buddy': 834, 'unethical': 835, 'relate': 836, 'middle': 837, 'memorable': 838, 'resounding': 839, 'screamy': 840, 'interplay': 841, 'share': 842, 'twists': 843, 'john': 844, 'daughters': 845, 'including': 846, 'basically': 847, 'free': 848, 'race': 849, 'theatrical': 850, 'joins': 851, 'minor': 852, 'starring': 853, 'genius': 854, 'warning': 855, 'commercial': 856, 'quinn': 857, 'killing': 858, 'honest': 859, 'mostly': 860, 'reality': 861, 'pillow': 862, 'full': 863, 'reviewers': 864, 'hide': 865, 'suggest': 866, 'predictable': 867, 'planned': 868, 'inventive': 869, 'modest': 870, 'curtain': 871, 'malta': 872, 'sometimes': 873, 'today': 874, 'roles': 875, 'macbeth': 876, 'insomniacs': 877, 'decent': 878, 'latest': 879, 'money': 880, 'taylor': 881, 'centers': 882, 'bully': 883, 'desperately': 884, 'follows': 885, 'virtue': 886, 'storyline': 887, 'players': 888, 'brutal': 889, 'snider': 890, 'spoilers': 891, 'explanation': 892, 'monster': 893, 'depressing': 894, 'london': 895, 'noteworthy': 896, 'exciting': 897, 'achievement': 898, 'occur': 899, 'identifies': 900, 'regardless': 901, 'documentaries': 902, 'nun': 903, 'jay': 904, 'realized': 905, 'also': 906, 'wise': 907, 'expert': 908, 'discomfort': 909, 'quick': 910, 'move': 911, 'fort': 912, 'sand': 913, 'quicker': 914, 'ray': 915, 'us': 916, 'latifa': 917, 'original': 918, 'nobody': 919, 'revenge': 920, 'form': 921, 'scrimm': 922, 'simply': 923, 'charlie': 924, 'course': 925, 'reconciliation': 926, 'point': 927, 'waiting': 928, 'arts': 929, 'towers': 930, 'gake': 931, 'night': 932, 'memories': 933, 'rendition': 934, 'fulfilling': 935, 'indoor': 936, 'oh': 937, 'storm': 938, 'cowardice': 939, 'controversy': 940, 'traffic': 941, 'note': 942, 'ups': 943, 'effect': 944, 'smile': 945, 'contained': 946, 'riz': 947, 'yun': 948, 'bipolarity': 949, 'sack': 950, 'mad': 951, 'tongue': 952, 'boiling': 953, 'idyllic': 954, 'soon': 955, 'stand': 956, 'diabetic': 957, 'rpg': 958, 'standout': 959, 'containing': 960, 'bellucci': 961, 'tickets': 962, 'cox': 963, 'robert': 964, 'pg': 965, 'realize': 966, 'boyle': 967, 'keep': 968, 'action': 969, 'looked': 970, 'delete': 971, 'cost': 972, 'bright': 973, 'whoever': 974, 'cheek': 975, 'blandly': 976, 'pandering': 977, 'complexity': 978, 'forgotten': 979, 'credits': 980, 'escalating': 981, 'plants': 982, 'savor': 983, 'ugliest': 984, 'pitch': 985, 'sincere': 986, 'wholesome': 987, 'progresses': 988, 'proudly': 989, 'torture': 990, 'lazy': 991, 'unpleasant': 992, 'yelps': 993, 'start': 994, 'limitations': 995, 'practical': 996, 'weariness': 997, 'lane': 998, 'following': 999, 'ole': 1000, 'vomit': 1001, 'frontier': 1002, 'great': 1003, 'akin': 1004, 'facing': 1005, 'horrible': 1006, 'makes': 1007, 'fx': 1008, 'likes': 1009, 'members': 1010, 'trying': 1011, 'pacing': 1012, 'gung': 1013, 'ladies': 1014, 'surrounding': 1015, 'sample': 1016, 'theatres': 1017, 'underneath': 1018, 'revere': 1019, 'holes': 1020, 'president': 1021, 'semi': 1022, 'high': 1023, 'generates': 1024, 'created': 1025, 'ages': 1026, 'carol': 1027, 'awesome': 1028, 'rise': 1029, 'menace': 1030, 'uses': 1031, 'greenstreet': 1032, 'something': 1033, 'secondly': 1034, 'excuse': 1035, 'vivid': 1036, 'timing': 1037, 'blush': 1038, 'buffalo': 1039, 'coastal': 1040, 'defined': 1041, 'sound': 1042, 'pap': 1043, 'assante': 1044, 'villain': 1045, 'soul': 1046, 'rocks': 1047, 'cannot': 1048, 'kanaly': 1049, 'watched': 1050, 'pixar': 1051, 'assistant': 1052, 'messages': 1053, 'holds': 1054, 'games': 1055, 'events': 1056, 'keira': 1057, 'lack': 1058, 'cutie': 1059, 'written': 1060, 'recurring': 1061, 'angles': 1062, 'armand': 1063, 'stars': 1064, 'facial': 1065, 'suck': 1066, 'allison': 1067, 'intense': 1068, 'whatever': 1069, 'loose': 1070, 'lousy': 1071, 'decidely': 1072, 'notch': 1073, 'aye': 1074, 'cult': 1075, 'afraid': 1076, 'professionals': 1077, 'mistakes': 1078, 'adaptation': 1079, 'explains': 1080, 'stuart': 1081, 'important': 1082, 'play': 1083, 'unmatched': 1084, 'dracula': 1085, 'animals': 1086, 'seems': 1087, 'indulgent': 1088, 'wonderfully': 1089, 'edge': 1090, 'silly': 1091, 'sea': 1092, 'flawed': 1093, 'diving': 1094, 'string': 1095, 'errors': 1096, 'wanting': 1097, 'format': 1098, 'rolls': 1099, 'quiet': 1100, 'soundtrack': 1101, 'indeed': 1102, 'going': 1103, 'longer': 1104, 'ann': 1105, 'shelves': 1106, 'sentiment': 1107, 'spent': 1108, 'anita': 1109, 'austere': 1110, 'owned': 1111, 'anne': 1112, 'properly': 1113, 'lame': 1114, 'ask': 1115, 'tonight': 1116, 'respecting': 1117, 'researched': 1118, 'incredible': 1119, 'direct': 1120, 'particular': 1121, 'females': 1122, 'real': 1123, 'slackers': 1124, 'reporter': 1125, 'inexperience': 1126, 'spoil': 1127, 'word': 1128, 'joke': 1129, 'pleased': 1130, 'good': 1131, 'wife': 1132, 'giving': 1133, 'view': 1134, 'green': 1135, 'boss': 1136, 'every': 1137, 'oy': 1138, 'clearly': 1139, 'brings': 1140, 'partaking': 1141, 'menacing': 1142, 'unrecommended': 1143, 'passion': 1144, 'delight': 1145, 'celebration': 1146, 'continuity': 1147, 'lilt': 1148, 'happened': 1149, 'court': 1150, 'scot': 1151, 'efforts': 1152, 'trumpeter': 1153, 'laughs': 1154, 'lassie': 1155, 'relief': 1156, 'incomprehensible': 1157, 'everybody': 1158, 'witticisms': 1159, 'ways': 1160, 'often': 1161, 'camp': 1162, 'easy': 1163, 'cartoon': 1164, 'young': 1165, 'worst': 1166, 'desert': 1167, 'owed': 1168, 'concert': 1169, 'miss': 1170, 'fifteen': 1171, 'rochon': 1172, 'relying': 1173, 'imagination': 1174, 'masculine': 1175, 'patent': 1176, 'chasing': 1177, 'stable': 1178, 'disbelief': 1179, 'executed': 1180, 'sucked': 1181, 'convoluted': 1182, 'hand': 1183, 'gas': 1184, 'mini': 1185, 'single': 1186, 'sites': 1187, 'two': 1188, 'tolerable': 1189, 'bop': 1190, 'extraneous': 1191, 'barcelona': 1192, 'patriotism': 1193, 'doubt': 1194, 'review': 1195, 'cruise': 1196, 'side': 1197, 'hayao': 1198, 'dreary': 1199, 'stratus': 1200, 'pray': 1201, 'released': 1202, 'elderly': 1203, 'abysmal': 1204, 'translating': 1205, 'wilkinson': 1206, 'trooper': 1207, 'male': 1208, 'writers': 1209, 'rubin': 1210, 'readers': 1211, 'drifting': 1212, 'koteas': 1213, 'hard': 1214, 'brainsucking': 1215, 'depicted': 1216, 'dead': 1217, 'definitely': 1218, 'use': 1219, 'supernatural': 1220, 'sex': 1221, 'sets': 1222, 'scenery': 1223, 'talents': 1224, 'sequels': 1225, 'songs': 1226, 'therapy': 1227, 'card': 1228, 'bohemian': 1229, 'famous': 1230, 'fan': 1231, 'certain': 1232, 'dads': 1233, 'fulci': 1234, 'highly': 1235, 'cutest': 1236, 'weaker': 1237, 'ability': 1238, 'howe': 1239, 'wow': 1240, 'amust': 1241, 'leave': 1242, 'lee': 1243, 'finds': 1244, 'fascinating': 1245, 'marred': 1246, 'light': 1247, 'ryans': 1248, 'involves': 1249, 'call': 1250, 'rare': 1251, 'jokes': 1252, 'letting': 1253, 'go': 1254, 'swords': 1255, 'grasp': 1256, 'worthy': 1257, 'clothes': 1258, 'shenanigans': 1259, 'better': 1260, 'still': 1261, 'inside': 1262, 'leap': 1263, 'ebay': 1264, 'idiot': 1265, 'students': 1266, 'sensitivities': 1267, 'occurs': 1268, 'punches': 1269, 'glance': 1270, 'element': 1271, 'deadly': 1272, 'march': 1273, 'bell': 1274, 'discovering': 1275, 'acted': 1276, 'received': 1277, 'together': 1278, 'fails': 1279, 'frankly': 1280, 'mind': 1281, 'exaggerating': 1282, 'american': 1283, 'spacey': 1284, 'secondary': 1285, 'embarrassed': 1286, 'unfortunate': 1287, 'indication': 1288, 'tv': 1289, 'steve': 1290, 'bad': 1291, 'becomes': 1292, 'coaster': 1293, 'tired': 1294, 'best': 1295, 'en': 1296, 'national': 1297, 'sublimely': 1298, 'thunderbirds': 1299, 'south': 1300, 'car': 1301, 'wide': 1302, 'thorsen': 1303, 'could': 1304, 'sundays': 1305, 'seemed': 1306, 'weird': 1307, 'stinks': 1308, 'playing': 1309, 'unsatisfactory': 1310, 'blatant': 1311, 'setting': 1312, 'ends': 1313, 'exactly': 1314, 'storytelling': 1315, 'cheap': 1316, 'stowe': 1317, 'vampire': 1318, 'especially': 1319, 'fire': 1320, 'attempting': 1321, 'mess': 1322, 'opinion': 1323, 'took': 1324, 'said': 1325, 'jaclyn': 1326, 'lower': 1327, 'lifetime': 1328, 'allow': 1329, 'yawn': 1330, 'campy': 1331, 'atmosphere': 1332, 'number': 1333, 'ending': 1334, 'comprehensible': 1335, 'squibs': 1336, 'music': 1337, 'unfortunately': 1338, 'personally': 1339, 'swamp': 1340, 'woo': 1341, 'astronaut': 1342, 'questioning': 1343, 'pseudo': 1344, 'meanders': 1345, 'see': 1346, 'due': 1347, 'appreciate': 1348, 'elias': 1349, 'volatile': 1350, 'chalkboard': 1351, 'plug': 1352, 'require': 1353, 'house': 1354, 'dangerous': 1355, 'improved': 1356, 'stunning': 1357, 'continue': 1358, 'final': 1359, 'exceptional': 1360, 'repeats': 1361, 'gabriel': 1362, 'intangibles': 1363, 'establish': 1364, 'nasty': 1365, 'type': 1366, 'core': 1367, 'mouth': 1368, 'star': 1369, 'prone': 1370, 'soldiers': 1371, 'versatile': 1372, 'describes': 1373, 'moved': 1374, 'depicts': 1375, 'hypocrisy': 1376, 'nurse': 1377, 'dark': 1378, 'paul': 1379, 'day': 1380, 'crowd': 1381, 'everyone': 1382, 'threshold': 1383, 'awards': 1384, 'nothing': 1385, 'cords': 1386, 'terribly': 1387, 'choice': 1388, 'odd': 1389, 'selections': 1390, 'wong': 1391, 'antithesis': 1392, 'dozen': 1393, 'cardellini': 1394, 'variation': 1395, 'favorite': 1396, 'borrowed': 1397, 'behold': 1398, 'timely': 1399, 'suspension': 1400, 'judith': 1401, 'stockings': 1402, 'poised': 1403, 'origins': 1404, 'give': 1405, 'pretty': 1406, 'win': 1407, 'story': 1408, 'layers': 1409, 'surf': 1410, 'author': 1411, 'eye': 1412, 'pictures': 1413, 'aailiyah': 1414, 'poet': 1415, 'tranquillity': 1416, 'tying': 1417, 'gay': 1418, 'overt': 1419, 'articulated': 1420, 'relation': 1421, 'sculpture': 1422, 'mother': 1423, 'eiko': 1424, 'debits': 1425, 'disappointment': 1426, 'pedestal': 1427, 'hollow': 1428, 'primal': 1429, 'sleep': 1430, 'edward': 1431, 'egotism': 1432, 'showed': 1433, 'run': 1434, 'channel': 1435, 'trashy': 1436, 'tries': 1437, 'beware': 1438, 'tom': 1439, 'movements': 1440, 'nor': 1441, 'garage': 1442, 'get': 1443, 'impulse': 1444, 'half': 1445, 'commentary': 1446, 'wasting': 1447, 'help': 1448, 'uniqueness': 1449, 'without': 1450, 'hopeless': 1451, 'notable': 1452, 'subplots': 1453, 'things': 1454, 'los': 1455, 'hilarious': 1456, 'crowe': 1457, 'directorial': 1458, 'colorful': 1459, 'comes': 1460, 'charisma': 1461, 'underacting': 1462, 'escapism': 1463, 'recommended': 1464, 'charming': 1465, 'within': 1466, 'barney': 1467, 'plus': 1468, 'critic': 1469, 'doctor': 1470, 'crisp': 1471, 'disparate': 1472, 'former': 1473, 'given': 1474, 'death': 1475, 'duper': 1476, 'riveted': 1477, 'sisters': 1478, 'decay': 1479, 'yes': 1480, 'wonder': 1481, 'cinematography': 1482, 'leni': 1483, 'dose': 1484, 'fish': 1485, 'racism': 1486, 'scamp': 1487, 'professor': 1488, 'jonah': 1489, 'factory': 1490, 'entirely': 1491, 'unbelievable': 1492, 'build': 1493, 'place': 1494, 'superbly': 1495, 'decipher': 1496, 'candle': 1497, 'tony': 1498, 'coal': 1499, 'traditional': 1500, 'dogs': 1501, 'sitcoms': 1502, 'smart': 1503, 'lies': 1504, 'pieces': 1505, 'fans': 1506, 'filmed': 1507, 'drawings': 1508, 'senior': 1509, 'random': 1510, 'times': 1511, 'considered': 1512, 'labute': 1513, 'emerge': 1514, 'interim': 1515, 'youtube': 1516, 'gotta': 1517, 'dr': 1518, 'turns': 1519, 'connor': 1520, 'conception': 1521, 'tsunami': 1522, 'portrayal': 1523, 'proceedings': 1524, 'rejection': 1525, 'track': 1526, 'nut': 1527, 'grates': 1528, 'wondered': 1529, 'latter': 1530, 'afternoon': 1531, 'barely': 1532, 'faster': 1533, 'established': 1534, 'nuns': 1535, 'concerning': 1536, 'many': 1537, 'prompted': 1538, 'interesting': 1539, 'enough': 1540, 'cameo': 1541, 'naughty': 1542, 'shirley': 1543, 'billy': 1544, 'four': 1545, 'medical': 1546, 'cancan': 1547, 'others': 1548, 'frightening': 1549, 'flaws': 1550, 'emperor': 1551, 'trip': 1552, 'carries': 1553, 'killings': 1554, 'shortlist': 1555, 'stagy': 1556, 'chase': 1557, 'audio': 1558, 'joe': 1559, 'script': 1560, 'main': 1561, 'set': 1562, 'tensions': 1563, 'miner': 1564, 'gets': 1565, 'heard': 1566, 'canada': 1567, 'murdered': 1568, 'whatsoever': 1569, 'presence': 1570, 'directing': 1571, 'believable': 1572, 'flashbacks': 1573, 'hence': 1574, 'overwrought': 1575, 'de': 1576, 'shocking': 1577, 'already': 1578, 'anyway': 1579, 'creature': 1580, 'parker': 1581, 'disliked': 1582, 'brat': 1583, 'bland': 1584, 'charles': 1585, 'sacrifice': 1586, 'role': 1587, 'prelude': 1588, 'paolo': 1589, 'sci': 1590, 'change': 1591, 'older': 1592, 'accurately': 1593, 'syrupy': 1594, 'recent': 1595, 'redeeming': 1596, 'sequence': 1597, 'ended': 1598, 'refreshing': 1599, 'girlfriend': 1600, 'touches': 1601, 'intelligence': 1602, 'lasting': 1603, 'explosion': 1604, 'gonna': 1605, 'matter': 1606, 'buildings': 1607, 'never': 1608, 'certainly': 1609, 'spot': 1610, 'blew': 1611, 'tough': 1612, 'episode': 1613, 'murdering': 1614, 'politically': 1615, 'watson': 1616, 'rent': 1617, 'melodrama': 1618, 'geek': 1619, 'talent': 1620, 'process': 1621, 'girls': 1622, 'depending': 1623, 'seat': 1624, 'human': 1625, 'expectations': 1626, 'pleaser': 1627, 'judge': 1628, 'christopher': 1629, 'forth': 1630, 'fall': 1631, 'loyalty': 1632, 'fleshed': 1633, 'thanks': 1634, 'musician': 1635, 'everywhere': 1636, 'visually': 1637, 'no': 1638, 'sour': 1639, 'laselva': 1640, 'waste': 1641, 'june': 1642, 'nicola': 1643, 'carrell': 1644, 'flick': 1645, 'keith': 1646, 'faithful': 1647, 'round': 1648, 'deeply': 1649, 'tons': 1650, 'self': 1651, 'overacting': 1652, 'heroism': 1653, 'retarded': 1654, 'incredibly': 1655, 'subtle': 1656, 'falling': 1657, 'contract': 1658, 'falls': 1659, 'little': 1660, 'tacky': 1661, 'say': 1662, 'explain': 1663, 'mention': 1664, 'attractive': 1665, 'turn': 1666, 'development': 1667, 'imaginable': 1668, 'pm': 1669, 'emptiness': 1670, 'seamlessly': 1671, 'damian': 1672, 'rice': 1673, 'gosh': 1674, 'towards': 1675, 'kris': 1676, 'sophisticated': 1677, 'america': 1678, 'forgetting': 1679, 'foxx': 1680, 'quality': 1681, 'subversive': 1682, 'mark': 1683, 'one': 1684, 'jet': 1685, 'special': 1686, 'scream': 1687, 'attempts': 1688, 'less': 1689, 'family': 1690, 'work': 1691, 'heroine': 1692, 'heaven': 1693, 'called': 1694, 'bold': 1695, 'forwarded': 1696, 'laughed': 1697, 'slightly': 1698, 'mishima': 1699, 'remaining': 1700, 'bother': 1701, 'iffy': 1702, 'stoic': 1703, 'italian': 1704, 'eloquently': 1705, 'switched': 1706, 'let': 1707, 'pretext': 1708, 'parents': 1709, 'abandoned': 1710, 'location': 1711, 'son': 1712, 'somewhat': 1713, 'confusing': 1714, 'intelligent': 1715, 'score': 1716, 'far': 1717, 'surface': 1718, 'starlet': 1719, 'create': 1720, 'rivalry': 1721, 'builders': 1722, 'masculinity': 1723, 'bennett': 1724, 'hairsplitting': 1725, 'indie': 1726, 'bear': 1727, 'jones': 1728, 'artiness': 1729, 'nearly': 1730, 'stranger': 1731, 'nimoy': 1732, 'unneeded': 1733, 'films': 1734, 'primary': 1735, 'around': 1736, 'attempt': 1737, 'expression': 1738, 'accessible': 1739, 'mesmerising': 1740, 'cause': 1741, 'comment': 1742, 'giallo': 1743, 'result': 1744, 'heels': 1745, 'vulcan': 1746, 'expect': 1747, 'teeth': 1748, 'laugh': 1749, 'roosevelt': 1750, 'bela': 1751, 'coppola': 1752, 'deadpan': 1753, 'enhanced': 1754, 'diaper': 1755, 'robotic': 1756, 'continually': 1757, 'destroy': 1758, 'cheekbones': 1759, 'elaborately': 1760, 'bec': 1761, 'necklace': 1762, 'book': 1763, 'reading': 1764, 'kieslowski': 1765, 'broke': 1766, 'dwight': 1767, 'evil': 1768, 'babysitting': 1769, 'teacher': 1770, 'jimmy': 1771, 'rating': 1772, 'dialogs': 1773, 'underappreciated': 1774, 'perfect': 1775, 'dance': 1776, 'mollusk': 1777, 'animated': 1778, 'insulin': 1779, 'angela': 1780, 'identify': 1781, 'act': 1782, 'flicks': 1783, 'reminded': 1784, 'vandiver': 1785, 'relationships': 1786, 'looks': 1787, 'filmography': 1788, 'remake': 1789, 'generally': 1790, 'masterpiece': 1791, 'schultz': 1792, 'checking': 1793, 'case': 1794, 'time': 1795, 'motion': 1796, 'vey': 1797, 'spend': 1798, 'not': 1799, 'scientist': 1800, 'promote': 1801, 'conceptually': 1802, 'shed': 1803, 'opening': 1804, 'government': 1805, 'crafted': 1806, 'mclaglen': 1807, 'kitchy': 1808, 'inconsistencies': 1809, 'balls': 1810, 'betty': 1811, 'industry': 1812, 'educational': 1813, 'themes': 1814, 'nuts': 1815, 'superlative': 1816, 'popular': 1817, 'bothersome': 1818, 'watkins': 1819, 'surprises': 1820, 'empty': 1821, 'deserves': 1822, 'im': 1823, 'vitally': 1824, 'galley': 1825, 'quite': 1826, 'seem': 1827, 'choked': 1828, 'scripting': 1829, 'repeated': 1830, 'distinction': 1831, 'child': 1832, 'kudos': 1833, 'whine': 1834, 'sum': 1835, 'white': 1836, 'paid': 1837, 'transcend': 1838, 'admins': 1839, 'shatner': 1840, 'eating': 1841, 'removing': 1842, 'worthless': 1843, 'shameful': 1844, 'vision': 1845, 'simmering': 1846, 'michael': 1847, 'owns': 1848, 'equivalent': 1849, 'someone': 1850, 'fifties': 1851, 'explorations': 1852, 'thug': 1853, 'broad': 1854, 'julian': 1855, 'supposed': 1856, 'gives': 1857, 'filmmaker': 1858, 'heart': 1859, 'completely': 1860, 'thrillers': 1861, 'editing': 1862, 'line': 1863, 'bates': 1864, 'noir': 1865, 'nationalities': 1866, 'chick': 1867, 'appearance': 1868, 'fresh': 1869, 'underwater': 1870, 'sweep': 1871, 'local': 1872, 'open': 1873, 'hot': 1874, 'lighting': 1875, 'much': 1876, 'brian': 1877, 'unnecessary': 1878, 'lucy': 1879, 'garfield': 1880, 'hurt': 1881, 'surprisingly': 1882, 'lestat': 1883, 'goes': 1884, 'joyce': 1885, 'baaaaaad': 1886, 'features': 1887, 'slurs': 1888, 'picture': 1889, 'th': 1890, 'improvisation': 1891, 'lewis': 1892, 'cailles': 1893, 'captures': 1894, 'fun': 1895, 'developments': 1896, 'unrecognizable': 1897, 'deserved': 1898, 'debbie': 1899, 'passed': 1900, 'added': 1901, 'pulling': 1902, 'shallow': 1903, 'meredith': 1904, 'intoning': 1905, 'houses': 1906, 'belly': 1907, 'speaking': 1908, 'nonetheless': 1909, 'become': 1910, 'aside': 1911, 'amount': 1912, 'cutting': 1913, 'ridiculous': 1914, 'believe': 1915, 'nonsense': 1916, 'bullock': 1917, 'thumper': 1918, 'existent': 1919, 'yet': 1920, 'lived': 1921, 'california': 1922, 'superficial': 1923, 'hayworth': 1924, 'pull': 1925, 'crayon': 1926, 'outlandish': 1927, 'stewart': 1928, 'relatively': 1929, 'overall': 1930, 'shined': 1931, 'style': 1932, 'falwell': 1933, 'lady': 1934, 'compromise': 1935, 'sink': 1936, 'schizophrenic': 1937, 'daughter': 1938, 'interacting': 1939, 'showcasing': 1940, 'tiny': 1941, 'experiences': 1942, 'thoroughly': 1943, 'question': 1944, 'practically': 1945, 'roth': 1946, 'childrens': 1947, 'cgi': 1948, 'girolamo': 1949, 'solidifying': 1950, 'irritating': 1951, 'boyfriend': 1952, 'defensemen': 1953, 'academy': 1954, 'welsh': 1955, 'unmitigated': 1956, 'individual': 1957, 'vessel': 1958, 'works': 1959, 'peaking': 1960, 'reasons': 1961, 'armageddon': 1962, 'drooling': 1963, 'save': 1964, 'offensive': 1965, 'love': 1966, 'church': 1967, 'exploit': 1968, 'fairly': 1969, 'trailer': 1970, 'hanks': 1971, 'negative': 1972, 'brevity': 1973, 'foreign': 1974, 'celebrity': 1975, 'sloppy': 1976, 'correct': 1977, 'halfway': 1978, 'mountain': 1979, 'overs': 1980, 'tone': 1981, 'maybe': 1982, 'poorly': 1983, 'appropriate': 1984, 'fare': 1985, 'neil': 1986, 'treat': 1987, 'follow': 1988, 'believed': 1989, 'master': 1990, 'series': 1991, 'townsend': 1992, 'convey': 1993, 'trinity': 1994, 'scenes': 1995, 'funniest': 1996, 'physical': 1997, 'involving': 1998, 'obvious': 1999, 'retreat': 2000, 'puppet': 2001, 'flat': 2002, 'limited': 2003, 'sign': 2004, 'mean': 2005, 'old': 2006, 'james': 2007, 'spy': 2008, 'creative': 2009, 'provided': 2010, 'conclusion': 2011, 'spoiled': 2012, 'says': 2013, 'direction': 2014, 'imdb': 2015, 'unforgettable': 2016, 'huston': 2017, 'ackerman': 2018, 'spiffy': 2019, 'charm': 2020, 'raging': 2021, 'solid': 2022, 'try': 2023, 'hours': 2024, 'entire': 2025, 'clear': 2026, 'conrad': 2027, 'satanic': 2028, 'tract': 2029, 'references': 2030, 'weight': 2031, 'god': 2032, 'insipid': 2033, 'memorized': 2034, 'loads': 2035, 'contains': 2036, 'crashed': 2037, 'subject': 2038, 'reverse': 2039, 'trumbull': 2040, 'big': 2041, 'beautiful': 2042, 'punish': 2043, 'history': 2044, 'ordeal': 2045, 'tear': 2046, 'biggest': 2047, 'corn': 2048, 'judo': 2049, 'delivering': 2050, 'late': 2051, 'revealing': 2052, 'sounded': 2053, 'considering': 2054, 'writer': 2055, 'telly': 2056, 'waster': 2057, 'uninteresting': 2058, 'utter': 2059, 'fair': 2060, 'muppets': 2061, 'violence': 2062, 'hollywood': 2063, 'anthony': 2064, 'fully': 2065, 'stylized': 2066, 'cuts': 2067, 'designer': 2068, 'transfers': 2069, 'meanings': 2070, 'howdy': 2071, 'taelons': 2072, 'marbles': 2073, 'unbearable': 2074, 'tomorrow': 2075, 'picked': 2076, 'scripts': 2077, 'underbite': 2078, 'actor': 2079, 'made': 2080, 'incorrectness': 2081, 'cinematographers': 2082, 'timers': 2083, 'glad': 2084, 'raver': 2085, 'appears': 2086, 'littered': 2087, 'babbling': 2088, 'hbo': 2089, 'hearts': 2090, 'period': 2091, 'waylaid': 2092, 'co': 2093, 'lovable': 2094, 'cant': 2095, 'era': 2096, 'years': 2097, 'outside': 2098, 'forever': 2099, 'cast': 2100, 'falsely': 2101, 'recommend': 2102, 'spock': 2103, 'parts': 2104, 'band': 2105, 'candace': 2106, 'massive': 2107, 'grainy': 2108, 'laughable': 2109, 'worthwhile': 2110, 'reenactments': 2111, 'emoting': 2112, 'anniversary': 2113, 'unmoving': 2114, 'water': 2115, 'audience': 2116, 'lion': 2117, 'touch': 2118, 'sympathetic': 2119, 'earlier': 2120, 'plain': 2121, 'tops': 2122, 'aimless': 2123, 'unfunny': 2124, 'ground': 2125, 'cliff': 2126, 'directors': 2127, 'northern': 2128, 'warts': 2129, 'whole': 2130, 'freedom': 2131, 'sole': 2132, 'lovely': 2133, 'major': 2134, 'villains': 2135, 'enter': 2136, 'actually': 2137, 'backed': 2138, 'low': 2139, 'occasionally': 2140, 'mchattie': 2141, 'magnificent': 2142, 'started': 2143, 'fit': 2144, 'honestly': 2145, 'almost': 2146, 'imperial': 2147, 'game': 2148, 'schoolers': 2149, 'rate': 2150, 'cover': 2151, 'puppets': 2152, 'riot': 2153, 'motivations': 2154, 'melville': 2155, 'grade': 2156, 'omit': 2157, 'preservation': 2158, 'lets': 2159, 'idiotic': 2160, 'words': 2161, 'teenagers': 2162, 'effort': 2163, 'consistent': 2164, 'bitchy': 2165, 'angus': 2166, 'park': 2167, 'utterly': 2168, 'ball': 2169, 'highest': 2170, 'proud': 2171, 'science': 2172, 'classic': 2173, 'cool': 2174, 'hay': 2175, 'disgrace': 2176, 'contrived': 2177, 'idealogical': 2178, 'remember': 2179, 'goremeister': 2180, 'connery': 2181, 'unremarkable': 2182, 'iso': 2183, 'kept': 2184, 'horror': 2185, 'politics': 2186, 'matthews': 2187, 'plays': 2188, 'hugo': 2189, 'moment': 2190, 'designed': 2191, 'alexander': 2192, 'reason': 2193, 'wb': 2194, 'george': 2195, 'integration': 2196, 'florida': 2197, 'mexican': 2198, 'captured': 2199, 'terrible': 2200, 'perhaps': 2201, 'rubbish': 2202, 'comedic': 2203, 'production': 2204, 'feelings': 2205, 'despite': 2206, 'top': 2207, 'close': 2208, 'instant': 2209, 'cinema': 2210, 'endearing': 2211, 'return': 2212, 'scary': 2213, 'evidently': 2214, 'getting': 2215, 'chosen': 2216, 'pleasant': 2217, 'draft': 2218, 'kids': 2219, 'ive': 2220, 'missed': 2221, 'study': 2222, 'presents': 2223, 'dreams': 2224, 'loves': 2225, 'obviously': 2226, 'thought': 2227, 'contributory': 2228, 'reactions': 2229, 'perplexing': 2230, 'absolutely': 2231, 'baxendale': 2232, 'universal': 2233, 'needed': 2234, 'putting': 2235, 'delights': 2236, 'bore': 2237, 'kirk': 2238, 'horrendously': 2239, 'brilliantly': 2240, 'succeeded': 2241, 'student': 2242, 'identified': 2243, 'unbearably': 2244, 'dream': 2245, 'lots': 2246, 'perabo': 2247, 'crap': 2248, 'jamie': 2249, 'heche': 2250, 'superb': 2251, 'year': 2252, 'survivors': 2253, 'slightest': 2254, 'sappiest': 2255, 'wih': 2256, 'wild': 2257, 'veteran': 2258, 'moral': 2259, 'adventure': 2260, 'smith': 2261, 'groove': 2262, 'undoubtedly': 2263, 'gradually': 2264, 'artist': 2265, 'terrific': 2266, 'evinced': 2267, 'like': 2268, 'sister': 2269, 'roeg': 2270, 'bit': 2271, 'murky': 2272, 'totally': 2273, 'junk': 2274, 'monotonous': 2275, 'pointillistic': 2276, 'shooting': 2277, 'significant': 2278, 'meteorite': 2279, 'situation': 2280, 'latin': 2281, 'sven': 2282, 'washed': 2283, 'angle': 2284, 'painful': 2285, 'portrayals': 2286, 'success': 2287, 'pearls': 2288, 'interview': 2289, 'amusing': 2290, 'rest': 2291, 'lust': 2292, 'performances': 2293, 'painfully': 2294, 'plenty': 2295, 'operas': 2296, 'chodorov': 2297, 'sure': 2298, 'video': 2299, 'concerns': 2300, 'world': 2301, 'writing': 2302, 'chow': 2303, 'errol': 2304, 'whenever': 2305, 'understated': 2306, 'system': 2307, 'vehicles': 2308, 'numbers': 2309, 'casting': 2310, 'done': 2311, 'screenwriter': 2312, 'might': 2313, 'hummh': 2314, 'japanese': 2315, 'flag': 2316, 'innocence': 2317, 'waitress': 2318, 'implausible': 2319, 'left': 2320, 'restrained': 2321, 'literally': 2322, 'problems': 2323, 'problem': 2324, 'ham': 2325, 'stephen': 2326, 'imitation': 2327, 'miyazaki': 2328, 'content': 2329, 'dysfunction': 2330, 'palance': 2331, 'stocking': 2332, 'outward': 2333, 'fellowes': 2334, 'rickman': 2335, 'season': 2336, 'characters': 2337, 'produced': 2338, 'last': 2339, 'undertone': 2340, 'uhura': 2341, 'wedding': 2342, 'duet': 2343, 'celluloid': 2344, 'borders': 2345, 'debated': 2346, 'lacked': 2347, 'voyage': 2348, 'put': 2349, 'trond': 2350, 'okay': 2351, 'well': 2352, 'financial': 2353, 'glasses': 2354, 'fishnet': 2355, 'humanity': 2356, 'bible': 2357, 'recently': 2358, 'meld': 2359, 'places': 2360, 'lot': 2361, 'century': 2362, 'buffet': 2363, 'shepard': 2364, 'balanced': 2365, 'novella': 2366, 'cheesy': 2367, 'guy': 2368, 'lyrics': 2369, 'confidence': 2370, 'smiling': 2371, 'job': 2372, 'monstrous': 2373, 'enjoyed': 2374, 'ortolani': 2375, 'poetry': 2376, 'used': 2377, 'would': 2378, 'hendrikson': 2379, 'rated': 2380, 'gore': 2381, 'award': 2382, 'precisely': 2383, 'blah': 2384, 'subjects': 2385, 'gallon': 2386, 'bonding': 2387, 'depth': 2388, 'completed': 2389, 'verbatim': 2390, 'poor': 2391, 'elsewhere': 2392, 'fill': 2393, 'structure': 2394, 'impossible': 2395, 'fabulous': 2396, 'captain': 2397, 'paint': 2398, 'talented': 2399, 'actress': 2400, 'accurate': 2401, 'taken': 2402, 'scare': 2403, 'began': 2404, 'configuration': 2405, 'youthful': 2406, 'couple': 2407, 'bordered': 2408, 'another': 2409, 'fat': 2410, 'constant': 2411, 'comfortable': 2412, 'includes': 2413, 'horrendous': 2414, 'insincere': 2415, 'stealing': 2416, 'must': 2417, 'dollars': 2418, 'otherwise': 2419, 'company': 2420, 'prepared': 2421, 'landscapes': 2422, 'universe': 2423, 'cat': 2424, 'look': 2425, 'thriller': 2426, 'narration': 2427, 'repeating': 2428, 'supporting': 2429, 'unoriginal': 2430, 'struggle': 2431, 'jim': 2432, 'valentine': 2433, 'whites': 2434, 'fast': 2435, 'rita': 2436, 'estate': 2437, 'cheerless': 2438, 'liked': 2439, 'portraying': 2440, 'hair': 2441, 'sing': 2442, 'state': 2443, 'misplace': 2444, 'initially': 2445, 'ironside': 2446, 'normally': 2447, 'thread': 2448, 'freeman': 2449, 'drift': 2450, 'ago': 2451, 'commented': 2452, 'timeless': 2453, 'crackles': 2454, 'sydney': 2455, 'five': 2456, 'speak': 2457, 'embassy': 2458, 'critical': 2459, 'hour': 2460, 'connections': 2461, 'wave': 2462, 'challenges': 2463, 'anyone': 2464, 'played': 2465, 'producers': 2466, 'documentary': 2467, 'hate': 2468, 'naked': 2469, 'kinda': 2470, 'thrown': 2471, 'super': 2472, 'understood': 2473, 'hilt': 2474, 'philippa': 2475, 'suffering': 2476, 'beginning': 2477, 'cg': 2478, 'worse': 2479, 'scale': 2480, 'shut': 2481, 'bailey': 2482, 'knows': 2483, 'verbal': 2484, 'takes': 2485, 'throughout': 2486, 'abroad': 2487, 'extraordinary': 2488, 'flaw': 2489, 'make': 2490, 'guards': 2491, 'changing': 2492, 'represents': 2493, 'wrap': 2494, 'holding': 2495, 'meant': 2496, 'avoid': 2497, 'fantasy': 2498, 'english': 2499, 'sean': 2500, 'nine': 2501, 'tardis': 2502, 'mainly': 2503, 'ineptly': 2504, 'eyes': 2505, 'sad': 2506, 'average': 2507, 'artistic': 2508, 'horrid': 2509, 'sense': 2510, 'columbo': 2511, 'drama': 2512, 'brooding': 2513, 'rumbles': 2514, 'asleep': 2515, 'surroundings': 2516, 'overly': 2517, 'shakespears': 2518, 'humorous': 2519, 'pretentious': 2520, 'feisty': 2521, 'crime': 2522, 'amazingly': 2523, 'noble': 2524, 'treasure': 2525, 'crazy': 2526, 'hands': 2527, 'awarded': 2528, 'sort': 2529, 'air': 2530, 'uneasy': 2531, 'brilliant': 2532, 'blood': 2533, 'dustin': 2534, 'eccleston': 2535, 'outlets': 2536, 'directed': 2537, 'phony': 2538, 'pair': 2539, 'dumbest': 2540, 'gross': 2541, 'monica': 2542, 'beyond': 2543, 'sequences': 2544, 'particularly': 2545, 'subverting': 2546, 'inspiring': 2547, 'flynn': 2548, 'lid': 2549, 'trouble': 2550, 'mighty': 2551, 'convince': 2552, 'remotely': 2553, 'sarcophage': 2554, 'material': 2555, 'overcome': 2556, 'ryan': 2557, 'distorted': 2558, 'masterpieces': 2559, 'disappointing': 2560, 'general': 2561, 'excessively': 2562, 'wants': 2563, 'exquisite': 2564, 'show': 2565, 'teddy': 2566, 'wooden': 2567, 'singing': 2568, 'coherent': 2569, 'assaulted': 2570, 'edition': 2571, 'joy': 2572, 'kidnapped': 2573, 'bob': 2574, 'slimy': 2575, 'funny': 2576, 'translate': 2577, 'nature': 2578, 'flying': 2579, 'balance': 2580, 'finished': 2581, 'ps': 2582, 'stories': 2583, 'sinister': 2584, 'stupid': 2585, 'unless': 2586, 'dedication': 2587, 'lost': 2588, 'everything': 2589, 'babie': 2590, 'marine': 2591, 'senses': 2592, 'hang': 2593, 'exteriors': 2594, 'frances': 2595, 'except': 2596, 'rendering': 2597, 'flakes': 2598, 'disney': 2599, 'mediocre': 2600, 'sinking': 2601, 'episodes': 2602, 'culture': 2603, 'comforting': 2604, 'fashioned': 2605, 'skilled': 2606, 'versus': 2607, 'treatments': 2608, 'makers': 2609, 'producer': 2610, 'allowing': 2611, 'considerable': 2612, 'gifted': 2613, 'tortured': 2614, 'blue': 2615, 'apt': 2616, 'garbo': 2617, 'dramatic': 2618, 'boasts': 2619, 'though': 2620, 'school': 2621, 'age': 2622, 'take': 2623, 'donlevy': 2624, 'vomited': 2625, 'weaving': 2626, 'lives': 2627, 'alert': 2628, 'trysts': 2629, 'underlines': 2630, 'provokes': 2631, 'stayed': 2632, 'road': 2633, 'superbad': 2634, 'caught': 2635, 'friendship': 2636, 'watch': 2637, 'pyromaniac': 2638, 'savalas': 2639, 'kill': 2640, 'continuation': 2641, 'several': 2642, 'blare': 2643, 'european': 2644, 'loneliness': 2645, 'humans': 2646, 'cry': 2647, 'female': 2648, 'poler': 2649, 'second': 2650, 'tremendously': 2651, 'hear': 2652, 'hill': 2653, 'ue': 2654, 'starts': 2655, 'predict': 2656, 'fact': 2657, 'site': 2658, 'running': 2659, 'step': 2660, 'bond': 2661, 'schrader': 2662, 'strokes': 2663, 'sorry': 2664, 'flaming': 2665, 'feeling': 2666, 'sits': 2667, 'iq': 2668, 'early': 2669, 'feet': 2670, 'wall': 2671, 'cross': 2672, 'confuses': 2673, 'affected': 2674, 'adrift': 2675, 'stuff': 2676, 'entertained': 2677, 'pencil': 2678, 'heroes': 2679, 'ventura': 2680, 'excuses': 2681, 'spoiler': 2682, 'kid': 2683, 'shell': 2684, 'creates': 2685, 'visual': 2686, 'heist': 2687, 'dribble': 2688, 'theater': 2689, 'finally': 2690, 'emotion': 2691, 'camerawork': 2692, 'power': 2693, 'oriented': 2694, 'brother': 2695, 'jason': 2696, 'rpger': 2697, 'wasted': 2698, 'barren': 2699, 'hatred': 2700, 'judging': 2701, 'pledge': 2702, 'person': 2703, 'ferry': 2704, 'paced': 2705, 'results': 2706, 'ms': 2707, 'aversion': 2708, 'vivian': 2709, 'understanding': 2710, 'zombiez': 2711, 'chimp': 2712, 'darren': 2713, 'sheer': 2714, 'indictment': 2715, 'incendiary': 2716, 'achille': 2717, 'failed': 2718, 'matrix': 2719, 'come': 2720, 'thomerson': 2721, 'anatomist': 2722, 'business': 2723, 'got': 2724, 'racial': 2725, 'childhood': 2726, 'eighth': 2727, 'relationship': 2728, 'trap': 2729, 'reviews': 2730, 'political': 2731, 'interest': 2732, 'slavic': 2733, 'wind': 2734, 'true': 2735, 'younger': 2736, 'head': 2737, 'leaves': 2738, 'shame': 2739, 'meagre': 2740, 'pointless': 2741, 'women': 2742, 'dickens': 2743, 'rather': 2744, 'ruthless': 2745, 'dependant': 2746, 'excellent': 2747, 'function': 2748, 'dull': 2749, 'breaking': 2750, 'relations': 2751, 'girl': 2752, 'trilogy': 2753, 'deliver': 2754, 'front': 2755, 'volcano': 2756, 'monumental': 2757, 'southern': 2758, 'handle': 2759, 'unpredictable': 2760, 'raw': 2761, 'resume': 2762, 'tightly': 2763, 'repertory': 2764, 'went': 2765, 'essence': 2766, 'admiration': 2767, 'minute': 2768, 'enjoyment': 2769, 'long': 2770, 'advise': 2771, 'jutland': 2772, 'else': 2773, 'ten': 2774, 'um': 2775, 'skip': 2776, 'pure': 2777, 'felt': 2778, 'summary': 2779, 'francis': 2780, 'jean': 2781, 'happy': 2782, 'closed': 2783, 'accused': 2784, 'argued': 2785, 'drawn': 2786, 'impact': 2787, 'range': 2788, 'pack': 2789, 'right': 2790, 'sharing': 2791, 'managed': 2792, 'netflix': 2793, 'actions': 2794, 'damn': 2795, 'disaster': 2796, 'looking': 2797, 'moves': 2798, 'chance': 2799, 'example': 2800, 'routine': 2801, 'hoot': 2802, 'helps': 2803, 'tedium': 2804, 'willie': 2805, 'repair': 2806, 'breeders': 2807, 'consolations': 2808, 'adams': 2809, 'happen': 2810, 'annoying': 2811, 'consequences': 2812, 'cotton': 2813, 'kristoffersen': 2814, 'buy': 2815, 'levels': 2816, 'despised': 2817, 'among': 2818, 'exchange': 2819, 'mirrormask': 2820, 'ceases': 2821, 'sphere': 2822, 'faultless': 2823, 'genre': 2824, 'impressive': 2825, 'emotionally': 2826, 'istagey': 2827, 'french': 2828, 'cruel': 2829, 'integral': 2830, 'gave': 2831, 'jobs': 2832, 'hype': 2833, 'hopefully': 2834, 'saw': 2835, 'ishioka': 2836, 'ought': 2837, 'olde': 2838, 'blown': 2839, 'shows': 2840, 'awful': 2841, 'forgettable': 2842, 'considers': 2843, 'poignant': 2844, 'vibe': 2845, 'granted': 2846, 'appealing': 2847, 'shakespear': 2848, 'provoking': 2849, 'hated': 2850, 'ford': 2851, 'loved': 2852, 'values': 2853, 'goth': 2854, 'painted': 2855, 'fantastic': 2856, 'touching': 2857, 'usual': 2858, 'ones': 2859, 'difference': 2860, 'write': 2861, 'choices': 2862, 'dancing': 2863, 'amaze': 2864, 'uptight': 2865, 'dignity': 2866, 'graphics': 2867, 'finest': 2868, 'walked': 2869, 'inappropriate': 2870, 'store': 2871, 'thousand': 2872, 'delightful': 2873, 'using': 2874, 'akasha': 2875, 'pi': 2876, 'americans': 2877, 'endlessly': 2878, 'scripted': 2879, 'faux': 2880, 'olivia': 2881, 'really': 2882, 'succeeds': 2883, 'extant': 2884, 'served': 2885}\n"
          ]
        }
      ],
      "source": [
        "from tqdm import tqdm # tqdm is a library that helps us to visualize the runtime of for loop.#https://tqdm.github.io/\n",
        "# tqdm accepts only a list of sentences\n",
        "def fit(data):    \n",
        "    unique_words_set = set() # at first we will initialize an empty set\n",
        "    # check if its list type or not\n",
        "    if isinstance(data, (list,)):\n",
        "        for row in data: # for each review in the dataset\n",
        "            for word in row.split(\" \"): # for each word in the review. #split method converts a string into list of words\n",
        "                if len(word) < 2:\n",
        "                    continue\n",
        "                unique_words_set.add(word)\n",
        "        unique_words_list = list(unique_words_set)\n",
        "        vocab_1 = {j:i for i,j in enumerate(unique_words_list)}\n",
        "        \n",
        "        return vocab_1\n",
        "    else:\n",
        "        print(\"you need to pass a list of sentence\")\n",
        "\n",
        "vocab= fit(corpus)\n",
        "print (vocab)"
      ]
    },
    {
      "cell_type": "markdown",
      "metadata": {
        "id": "fzruLYsS9dba"
      },
      "source": [
        "## 2. Finding the words with Top 50 IDF values.\n",
        " \n",
        "Generates a dictionary of Top 50 Unique words sorted in descending order of IDF Values, where k:v = unique_word: IDF "
      ]
    },
    {
      "cell_type": "code",
      "execution_count": null,
      "metadata": {
        "id": "SQhmiQ8h9dbb",
        "outputId": "eb5d8cd9-c61f-4432-bc30-344814f3505c"
      },
      "outputs": [
        {
          "name": "stdout",
          "output_type": "stream",
          "text": [
            "{'happiness': 6.922918004572872, 'monolog': 6.922918004572872, 'stereotypically': 6.922918004572872, 'clients': 6.922918004572872, 'colours': 6.922918004572872, 'accolades': 6.922918004572872, 'contributing': 6.922918004572872, 'underrated': 6.922918004572872, 'marriage': 6.922918004572872, 'convention': 6.922918004572872, 'situations': 6.922918004572872, 'inspiration': 6.922918004572872, 'disgusting': 6.922918004572872, 'backdrop': 6.922918004572872, 'guilt': 6.922918004572872, 'impression': 6.922918004572872, 'social': 6.922918004572872, 'detailing': 6.922918004572872, 'dry': 6.922918004572872, 'faces': 6.922918004572872, 'ursula': 6.922918004572872, 'intentions': 6.922918004572872, 'virus': 6.922918004572872, 'task': 6.922918004572872, 'competent': 6.922918004572872, 'catchy': 6.922918004572872, 'surely': 6.922918004572872, 'artless': 6.922918004572872, 'smack': 6.922918004572872, 'avoided': 6.922918004572872, 'coach': 6.922918004572872, 'woa': 6.922918004572872, 'treachery': 6.922918004572872, 'stick': 6.922918004572872, 'lucio': 6.922918004572872, 'gorman': 6.922918004572872, 'helping': 6.922918004572872, 'hold': 6.922918004572872, 'ticker': 6.922918004572872, 'crocs': 6.922918004572872, 'homework': 6.922918004572872, 'father': 6.922918004572872, 'develop': 6.922918004572872, 'apart': 6.922918004572872, 'comical': 6.922918004572872, 'plmer': 6.922918004572872, 'barking': 6.922918004572872, 'post': 6.922918004572872, 'grimes': 6.922918004572872, 'stinker': 6.922918004572872}\n",
            "____________________________________________________________________________________________________\n",
            "{'happiness': 0, 'monolog': 1, 'stereotypically': 2, 'clients': 3, 'colours': 4, 'accolades': 5, 'contributing': 6, 'underrated': 7, 'marriage': 8, 'convention': 9, 'situations': 10, 'inspiration': 11, 'disgusting': 12, 'backdrop': 13, 'guilt': 14, 'impression': 15, 'social': 16, 'detailing': 17, 'dry': 18, 'faces': 19, 'ursula': 20, 'intentions': 21, 'virus': 22, 'task': 23, 'competent': 24, 'catchy': 25, 'surely': 26, 'artless': 27, 'smack': 28, 'avoided': 29, 'coach': 30, 'woa': 31, 'treachery': 32, 'stick': 33, 'lucio': 34, 'gorman': 35, 'helping': 36, 'hold': 37, 'ticker': 38, 'crocs': 39, 'homework': 40, 'father': 41, 'develop': 42, 'apart': 43, 'comical': 44, 'plmer': 45, 'barking': 46, 'post': 47, 'grimes': 48, 'stinker': 49}\n"
          ]
        }
      ],
      "source": [
        " import math\n",
        "\n",
        "def Top_50_IDF(Corpus, vocabulary):\n",
        "  #1. split each sentence in the corpus into a list of words called word_matrix\n",
        "  word_matrix=[]\n",
        "  for sentence in corpus:\n",
        "    words_in_sentence=set()\n",
        "    l= sentence.split(' ')\n",
        "    for word in l:\n",
        "      w=word.lower()\n",
        "      if len(word)<2:\n",
        "        continue\n",
        "      words_in_sentence.add(w)\n",
        "    lst= list(words_in_sentence)\n",
        "    word_matrix.append(lst)\n",
        "\n",
        "  #2. print the keys in the vocab\n",
        "  Key= list(vocabulary.keys())\n",
        "  \n",
        "  #3. Calculation of IDF of each unique word in the vocabulary\n",
        "  count=0  #initialize count=0\n",
        "  idf_list=[]\n",
        "  for words in Key:\n",
        "    w1=words.lower()\n",
        "    for sentences in word_matrix:\n",
        "      for word in sentences:\n",
        "        if w1==word:\n",
        "          count+=1\n",
        "          break\n",
        "    idf= 1+ math.log((len(word_matrix)+1)/(count+1))\n",
        "    idf_list.append(idf)\n",
        "    count=0 #re-assign count=0 after every iteration of a unique word\n",
        "  idf_dict= dict(zip(Key,idf_list))\n",
        "  top_50_idf= {k:v for k,v in sorted(idf_dict.items(),key= lambda a:a[1], reverse= True)[:50]}\n",
        "  a=[i for i in range(0,50)]\n",
        "  top_50_index= dict(zip(top_50_idf.keys(),a))\n",
        "  \n",
        "  return top_50_idf, top_50_index\n",
        "\n",
        "IDF_values, IDF_index= Top_50_IDF(corpus,vocab)\n",
        "print(IDF_values)\n",
        "print('_'*100)\n",
        "print(IDF_index)"
      ]
    },
    {
      "cell_type": "markdown",
      "metadata": {
        "id": "nDAfoIOe9dbb"
      },
      "source": [
        "## 3. Transform Method "
      ]
    },
    {
      "cell_type": "code",
      "execution_count": null,
      "metadata": {
        "id": "VX7xxp0d9dbb",
        "outputId": "87a8b418-baa7-4fb7-f8ec-d850361d7aac"
      },
      "outputs": [
        {
          "name": "stderr",
          "output_type": "stream",
          "text": [
            "100%|█████████████████████████████████████████████████████████████████████████████| 746/746 [00:00<00:00, 57387.72it/s]\n"
          ]
        },
        {
          "name": "stdout",
          "output_type": "stream",
          "text": [
            "  (17, 47)\t1\n",
            "  (37, 20)\t1\n",
            "  (66, 16)\t1\n",
            "  (78, 2)\t1\n",
            "  (114, 27)\t1\n",
            "  (135, 0)\t1\n",
            "  (135, 4)\t1\n",
            "  (135, 17)\t1\n",
            "  (135, 21)\t1\n",
            "  (135, 31)\t1\n",
            "  (135, 32)\t1\n",
            "  (135, 37)\t1\n",
            "  (135, 39)\t1\n",
            "  (135, 42)\t1\n",
            "  (148, 18)\t1\n",
            "  (155, 28)\t1\n",
            "  (191, 33)\t1\n",
            "  (193, 41)\t2\n",
            "  (218, 38)\t1\n",
            "  (224, 12)\t1\n",
            "  (282, 24)\t1\n",
            "  (326, 44)\t1\n",
            "  (348, 5)\t1\n",
            "  (350, 45)\t1\n",
            "  (366, 9)\t1\n",
            "  (372, 22)\t1\n",
            "  (372, 29)\t1\n",
            "  (394, 7)\t1\n",
            "  (419, 25)\t1\n",
            "  (422, 43)\t1\n",
            "  (449, 23)\t1\n",
            "  (458, 1)\t1\n",
            "  (462, 36)\t1\n",
            "  (475, 19)\t1\n",
            "  (485, 8)\t1\n",
            "  (489, 11)\t1\n",
            "  (527, 46)\t1\n",
            "  (557, 34)\t1\n",
            "  (574, 10)\t1\n",
            "  (574, 30)\t1\n",
            "  (591, 14)\t1\n",
            "  (600, 49)\t1\n",
            "  (615, 15)\t1\n",
            "  (616, 13)\t1\n",
            "  (619, 48)\t1\n",
            "  (639, 26)\t1\n",
            "  (710, 35)\t1\n",
            "  (710, 40)\t1\n",
            "  (712, 6)\t1\n",
            "  (734, 3)\t1\n"
          ]
        },
        {
          "name": "stderr",
          "output_type": "stream",
          "text": [
            "100%|█████████████████████████████████████████████████████████████████████████████| 746/746 [00:00<00:00, 74596.51it/s]"
          ]
        },
        {
          "name": "stdout",
          "output_type": "stream",
          "text": [
            "____________________________________________________________________________________________________\n",
            "[0 0 0 0 0 0 0 0 0 0 0 0 0 0 0 0 0 0 0 0 0 0 0 0 0 0 0 0 0 0 0 0 0 0 0 0 0\n",
            " 0 0 0 0 2 0 0 0 0 0 0 0 0]\n"
          ]
        },
        {
          "name": "stderr",
          "output_type": "stream",
          "text": [
            "\n"
          ]
        }
      ],
      "source": [
        "from collections import Counter\n",
        "from scipy.sparse import csr_matrix\n",
        "\n",
        "def transform(data,vocab):\n",
        "    rows = []\n",
        "    columns = []\n",
        "    values = []\n",
        "    if isinstance(data, (list,)):\n",
        "        for index, row in enumerate(tqdm(data)): # for each document in the data\n",
        "            # it returns a dict type object where key is the word and values is its frequency- {word:frequency}\n",
        "            word_frequency = dict(Counter(row.split()))\n",
        "            # for every unique word in the document\n",
        "            for word, frequency in word_frequency.items():  # for every unique word in the review.                \n",
        "                if len(word) < 2:\n",
        "                    continue\n",
        "                # we check if the word is there in the vocabulary that we built using fit() function\n",
        "                # dict.get() function will return the values, but if the key doesn't exist it will return -1\n",
        "\n",
        "                column_index = vocab.get(word, -1) # retreving the dimension number of a word as column index\n",
        "                \n",
        "                # if the word exists\n",
        "                if column_index !=-1:\n",
        "                    # we store the index of the document\n",
        "                    rows.append(index)\n",
        "                    # Next we store the dimensions of the word\n",
        "                    columns.append(column_index)\n",
        "                    # At last we store the frequency of the word\n",
        "                    values.append(frequency)\n",
        "        return csr_matrix((values, (rows,columns)), shape=(len(data),len(vocab)))\n",
        "    else:\n",
        "        print(\"you must pass a list of strings\")\n",
        "\n",
        "\n",
        "\n",
        "Sparse_Matrix= transform(corpus, IDF_index)\n",
        "print(Sparse_Matrix)\n",
        "#Dense Matrix\n",
        "Dense_Matrix= Sparse_Matrix= transform(corpus, IDF_index).toarray()\n",
        "print('_'*100)\n",
        "print(Dense_Matrix[193]) #Printing random row of the Matrix in dense form\n"
      ]
    },
    {
      "cell_type": "markdown",
      "metadata": {
        "id": "3LTylO4N9dbb"
      },
      "source": [
        "## 4. Calculation of TFIDF"
      ]
    },
    {
      "cell_type": "code",
      "execution_count": null,
      "metadata": {
        "id": "T8cuyOwO9dbc",
        "outputId": "1c334746-281e-4fc5-8d67-a7e88de4454d"
      },
      "outputs": [
        {
          "name": "stderr",
          "output_type": "stream",
          "text": [
            "100%|█████████████████████████████████████████████████████████████████████████████| 746/746 [00:00<00:00, 67811.34it/s]"
          ]
        },
        {
          "name": "stdout",
          "output_type": "stream",
          "text": [
            "  (17, 47)\t1.0\n",
            "  (37, 20)\t1.0\n",
            "  (66, 16)\t1.0\n",
            "  (78, 2)\t1.0\n",
            "  (114, 27)\t1.0\n",
            "  (135, 0)\t0.33333333333333337\n",
            "  (135, 4)\t0.33333333333333337\n",
            "  (135, 17)\t0.33333333333333337\n",
            "  (135, 21)\t0.33333333333333337\n",
            "  (135, 31)\t0.33333333333333337\n",
            "  (135, 32)\t0.33333333333333337\n",
            "  (135, 37)\t0.33333333333333337\n",
            "  (135, 39)\t0.33333333333333337\n",
            "  (135, 42)\t0.33333333333333337\n",
            "  (148, 18)\t1.0\n",
            "  (155, 28)\t1.0\n",
            "  (191, 33)\t1.0\n",
            "  (193, 41)\t1.0\n",
            "  (218, 38)\t1.0\n",
            "  (224, 12)\t1.0\n",
            "  (282, 24)\t1.0\n",
            "  (326, 44)\t1.0\n",
            "  (348, 5)\t1.0\n",
            "  (350, 45)\t1.0\n",
            "  (366, 9)\t1.0\n",
            "  (372, 22)\t0.7071067811865476\n",
            "  (372, 29)\t0.7071067811865476\n",
            "  (394, 7)\t1.0\n",
            "  (419, 25)\t1.0\n",
            "  (422, 43)\t1.0\n",
            "  (449, 23)\t1.0\n",
            "  (458, 1)\t1.0\n",
            "  (462, 36)\t1.0\n",
            "  (475, 19)\t1.0\n",
            "  (485, 8)\t1.0\n",
            "  (489, 11)\t1.0\n",
            "  (527, 46)\t1.0\n",
            "  (557, 34)\t1.0\n",
            "  (574, 10)\t0.7071067811865475\n",
            "  (574, 30)\t0.7071067811865475\n",
            "  (591, 14)\t1.0\n",
            "  (600, 49)\t1.0\n",
            "  (615, 15)\t1.0\n",
            "  (616, 13)\t1.0\n",
            "  (619, 48)\t1.0\n",
            "  (639, 26)\t1.0\n",
            "  (710, 35)\t0.7071067811865476\n",
            "  (710, 40)\t0.7071067811865476\n",
            "  (712, 6)\t1.0\n",
            "  (734, 3)\t1.0\n",
            "__________________________________________________\n",
            "[[0. 0. 0. 0. 0. 0. 0. 0. 0. 0. 0. 0. 0. 0. 0. 0. 0. 0. 0. 0. 0. 0. 0. 0.\n",
            "  0. 0. 0. 0. 0. 0. 0. 0. 0. 0. 0. 0. 0. 0. 0. 0. 0. 1. 0. 0. 0. 0. 0. 0.\n",
            "  0. 0.]]\n",
            "__________________________________________________\n",
            "The shape of the resultant Matrix is (746, 50)\n"
          ]
        },
        {
          "name": "stderr",
          "output_type": "stream",
          "text": [
            "\n"
          ]
        }
      ],
      "source": [
        "from sklearn import preprocessing\n",
        "def TFIDF(data,vocab,IDF_values):\n",
        "    rows = []\n",
        "    columns = []\n",
        "    values = []\n",
        "    if isinstance(data, (list,)):\n",
        "        for row_index, row in enumerate(tqdm(data)): # for each document in the data\n",
        "            word_frequency_1 = dict(Counter(row.split()))\n",
        "            for word, frequency in word_frequency_1.items():                \n",
        "                if len(word) < 2:\n",
        "                    continue\n",
        "                \n",
        "#Calculation of Term Frequency\n",
        "                if word in IDF_index.keys(): #if the word is in the top 50 IDF vocab\n",
        "                  term_freq= word_frequency_1.get(word)/ len(row.split())\n",
        "#Calculation of TFIDF\n",
        "                  tfidf= (term_freq)*IDF_values.get(word)\n",
        "                  column_index = vocab.get(word, -1) # retreving the dimension number of a word as column index\n",
        "                  if column_index !=-1:\n",
        "                    rows.append(row_index)\n",
        "                    columns.append(column_index)\n",
        "                    values.append(tfidf)\n",
        "        sparse_matrix= csr_matrix((values, (rows,columns)), shape=(len(data),len(IDF_values)))\n",
        "        return sparse_matrix, preprocessing.normalize(sparse_matrix, norm='l2', axis=1, copy=False, return_norm=False)\n",
        "    else:\n",
        "        print(\"you must pass a list of strings\")\n",
        "\n",
        "TFIDF_Matrix_sparse, TFIDF_Matrix_dense =TFIDF(corpus,IDF_index,IDF_values)\n",
        "print(TFIDF_Matrix_sparse) #printing only the first row of sparse matrix\n",
        "print('_'*50)\n",
        "\n",
        "matrix=(TFIDF_Matrix_dense[193].toarray()) #Only the first row of the dense matrix\n",
        "print(matrix)\n",
        "print('_'*50)\n",
        "print(\"The shape of the resultant Matrix is\", TFIDF_Matrix_dense.shape) #Shape of full TFIDF  Matrix\n"
      ]
    }
  ],
  "metadata": {
    "colab": {
      "provenance": []
    },
    "kernelspec": {
      "display_name": "Python 3 (ipykernel)",
      "language": "python",
      "name": "python3"
    },
    "language_info": {
      "codemirror_mode": {
        "name": "ipython",
        "version": 3
      },
      "file_extension": ".py",
      "mimetype": "text/x-python",
      "name": "python",
      "nbconvert_exporter": "python",
      "pygments_lexer": "ipython3",
      "version": "3.9.7"
    }
  },
  "nbformat": 4,
  "nbformat_minor": 0
}