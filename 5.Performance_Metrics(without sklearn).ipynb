{
  "cells": [
    {
      "cell_type": "markdown",
      "metadata": {
        "id": "s0Ej_bXyQvnV"
      },
      "source": [
        "# Compute performance metrics for the given Y and Y_score without sklearn"
      ]
    },
    {
      "cell_type": "code",
      "execution_count": null,
      "metadata": {
        "id": "4CHb6NE7Qvnc"
      },
      "outputs": [],
      "source": [
        "import numpy as np\n",
        "import pandas as pd\n",
        "# other than these two you should not import any other packages"
      ]
    },
    {
      "cell_type": "markdown",
      "metadata": {
        "id": "KbsWXuDaQvnq"
      },
      "source": [
        "\n",
        "## A. Compute performance metrics for the given data '5_a.csv'\n",
        " <pre>  <b>Note 1:</b> in this data you can see number of positive points >> number of negatives points\n",
        "   <b>Note 2:</b> use pandas or numpy to read the data from <b>5_a.csv</b>\n",
        "   <b>Note 3:</b> you need to derive the class labels from given score</pre> $y^{pred}= \\text{[0 if y_score < 0.5 else 1]}$\n",
        "\n",
        "<pre>\n",
        "<ol>\n",
        "<li> Compute Confusion Matrix </li>\n",
        "<li> Compute F1 Score </li>\n",
        "<li> Compute AUC Score, you need to compute different thresholds and for each threshold compute tpr,fpr and then use               numpy.trapz(tpr_array, fpr_array) <a href='https://stackoverflow.com/q/53603376/4084039'>https://stackoverflow.com/q/53603376/4084039</a>, <a href='https://stackoverflow.com/a/39678975/4084039'>https://stackoverflow.com/a/39678975/4084039</a> Note: it should be numpy.trapz(tpr_array, fpr_array) not numpy.trapz(fpr_array, tpr_array)\n",
        "Note- Make sure that you arrange your probability scores in descending order while calculating AUC</li>\n",
        "<li> Compute Accuracy Score </li>\n",
        "</ol>\n",
        "</pre>"
      ]
    },
    {
      "cell_type": "code",
      "execution_count": null,
      "metadata": {
        "id": "WaFLW7oBQvnt",
        "outputId": "52e1a37a-e5e2-4f61-d39f-36bdf2bc512a"
      },
      "outputs": [
        {
          "name": "stdout",
          "output_type": "stream",
          "text": [
            "     y     proba\n",
            "0  1.0  0.637387\n",
            "1  1.0  0.635165\n",
            "2  1.0  0.766586\n",
            "3  1.0  0.724564\n",
            "4  1.0  0.889199\n",
            "5  1.0  0.601600\n",
            "6  1.0  0.666323\n",
            "7  1.0  0.567012\n",
            "8  1.0  0.650230\n",
            "9  1.0  0.829346\n",
            "__________________________________________________\n",
            "(10100, 2)\n"
          ]
        }
      ],
      "source": [
        "df_a=pd.read_csv('5_a.csv')\n",
        "print(df_a.head(10))\n",
        "print('_'*50)\n",
        "print(df_a.shape)\n"
      ]
    },
    {
      "cell_type": "markdown",
      "metadata": {
        "id": "YVRIOC7PAbmP"
      },
      "source": [
        "### Number of points of each class"
      ]
    },
    {
      "cell_type": "code",
      "execution_count": null,
      "metadata": {
        "id": "qedmLlGoAbmQ",
        "outputId": "78e729fa-ebc9-4463-c91f-ceeb2d0c8436"
      },
      "outputs": [
        {
          "name": "stdout",
          "output_type": "stream",
          "text": [
            "1.0    10000\n",
            "0.0      100\n",
            "Name: y, dtype: int64\n"
          ]
        }
      ],
      "source": [
        "c= df_a['y'].value_counts() #Number of points that belong to class 1 and class 0\n",
        "print(c)"
      ]
    },
    {
      "cell_type": "markdown",
      "metadata": {
        "id": "oo5wXznsAbmQ"
      },
      "source": [
        "Hence the Dataset is highly imbalanced towards Class-1"
      ]
    },
    {
      "cell_type": "code",
      "execution_count": null,
      "metadata": {
        "id": "yg8uUJvGAfCM",
        "scrolled": true,
        "outputId": "75c2eb48-4168-4d5d-d373-406442b2f8de"
      },
      "outputs": [
        {
          "name": "stdout",
          "output_type": "stream",
          "text": [
            "The number of predicted classes are\n",
            "1    10100\n",
            "Name: proba, dtype: int64\n",
            "____________________________________________________________________________________________________\n",
            "Confusion Matrix=\n",
            "[[10000   100]\n",
            " [    0     0]]\n",
            "____________________________________________________________________________________________________\n",
            "F1 Score=0.9950248756218906\n",
            "____________________________________________________________________________________________________\n",
            "Accuracy Score=0.9900990099009901\n",
            "____________________________________________________________________________________________________\n",
            "AUC Score=0.48829900000000004\n",
            "____________________________________________________________________________________________________\n"
          ]
        },
        {
          "data": {
            "image/png": "[encoded data removed]",
            "text/plain": [
              "<Figure size 432x288 with 1 Axes>"
            ]
          },
          "metadata": {
            "needs_background": "light"
          },
          "output_type": "display_data"
        }
      ],
      "source": [
        "# write your code here for task A\n",
        "\n",
        "#1. ROUNDING OFF PROBABILITY SCORES INTO CLASSES\n",
        "\n",
        "df_a['proba'] = np.where(df_a['proba'] >= 0.5, 1, 0)\n",
        "print(\"The number of predicted classes are\")\n",
        "print(df_a['proba'].value_counts())\n",
        "print('_'*100)\n",
        "\n",
        "#2. COMPUTE CONFUSION MATRIX\n",
        "\n",
        "TP= df_a[(df_a['y']==1) & (df_a['proba']==1)].count()[0] #True Positive\n",
        "FP= df_a[(df_a['y']==0) & (df_a['proba']==1)].count()[0] #False Positive\n",
        "TN= df_a[(df_a['y']==0) & (df_a['proba']==0)].count()[0] #False Negative\n",
        "FN= df_a[(df_a['y']==1) & (df_a['proba']==0)].count()[0] #True Negative\n",
        "\n",
        "C_M= np.matrix([[TP,FP],[FN,TN]]) #Confusion Matrix\n",
        "print('Confusion Matrix=')\n",
        "print(C_M)\n",
        "print('_'*100)\n",
        "\n",
        "#3. Calculation of F1 Score\n",
        "\n",
        "#Precision= True Positive/(True Positive+False Positive)--->What % of points are actually Positive out of all predicted Positive Point\n",
        "# Recall= True Positive/ (True Positive+False Negative)----> True Positive Rate\n",
        "\n",
        "Pr= TP/(TP+FP) \n",
        "Re= TP/(TP+FN)\n",
        "\n",
        "#F1 Score= (2*Precision*Recall)/ (Precision+Recall)\n",
        "\n",
        "F1_score= (2*Pr*Re)/(Pr+Re)\n",
        "print('F1 Score={}'.format(F1_score))\n",
        "print('_'*100)\n",
        "\n",
        "#4.Calculation of Accuracy Score= (TP+TN)/(TP+FP+FN+TN)\n",
        "\n",
        "accuracy_score= (TP+TN)/(TP+FP+FN+TN)\n",
        "print('Accuracy Score={}'.format(accuracy_score))\n",
        "print('_'*100)\n",
        "\n",
        "#5. Calculation of AUC Score- Area Under Receiver Operating Characteristic(ROC) Curve\n",
        "df_a=pd.read_csv('5_a.csv') #Again we need to use the probability scores.\n",
        "sortby_prob =df_a.sort_values('proba',ascending=False) #Sorting by probability scores in Descending Order\n",
        "prob_list= sortby_prob['proba'].tolist()\n",
        "\n",
        "TPR_list=[] #To append all TPR values for each iteration\n",
        "FPR_list=[] #To append all FPR values for each iteration\n",
        "\n",
        "for thr in prob_list: #thr=threshold value\n",
        "    \n",
        "    #Wherever the probability is greater than threshold the value is rounded off to 1. Otherwise 0.\n",
        "    sortby_prob['proba'] = np.where(sortby_prob['proba'] >= thr, 1, 0) \n",
        "    \n",
        "    TP_1= sortby_prob[(sortby_prob['y']==1) & (sortby_prob['proba']==1)].count()[0] #True Positive\n",
        "    FP_1= sortby_prob[(sortby_prob['y']==0) & (sortby_prob['proba']==1)].count()[0] #False Positive\n",
        "    TN_1= sortby_prob[(sortby_prob['y']==0) & (sortby_prob['proba']==0)].count()[0] #False Negative\n",
        "    FN_1 =sortby_prob[(sortby_prob['y']==1) & (sortby_prob['proba']==0)].count()[0] #True Negative\n",
        "    \n",
        "    TPR= TP_1/(TP_1+ FN_1) #True Positive Rate= What % of points are actually +ve out of all the predicted +ve points\n",
        "    FPR= FP_1/(FP_1+TN_1)  #False Positive Rate= What % of points are predicted as 1 when they are actually 0.\n",
        "    \n",
        "    TPR_list.append(TPR)\n",
        "    FPR_list.append(FPR)\n",
        "    \n",
        "    sortby_prob =df_a.sort_values('proba',ascending=False) #reverting into original sorted probabilities for next iteration\n",
        "\n",
        "AUC_score= np.trapz(TPR_list,FPR_list)\n",
        "print(\"AUC Score={}\".format(AUC_score))\n",
        "print('_'*100)  \n",
        "\n",
        "# 6. Plot of ROC Curve\n",
        "\n",
        "import matplotlib.pyplot as plt\n",
        "plt.plot(FPR_list, TPR_list)\n",
        "plt.title(\"Receiver Operating Characteristic Curve\")\n",
        "plt.xlabel('FPR')\n",
        "plt.ylabel('TPR')\n",
        "plt.show()\n"
      ]
    },
    {
      "cell_type": "markdown",
      "metadata": {
        "id": "V5KZem1BQvn2"
      },
      "source": [
        "\n",
        "\n",
        "## B. Compute performance metrics for the given data '5_b.csv'\n",
        "<pre>\n",
        "   <b>Note 1:</b> in this data you can see number of positive points << number of negatives points\n",
        "   <b>Note 2:</b> use pandas or numpy to read the data from <b>5_b.csv</b>\n",
        "   <b>Note 3:</b> you need to derive the class labels from given score</pre> $y^{pred}= \\text{[0 if y_score < 0.5 else 1]}$\n",
        "\n",
        "<pre>\n",
        "<ol>\n",
        "<li> Compute Confusion Matrix </li>\n",
        "<li> Compute F1 Score </li>\n",
        "<li> Compute AUC Score, you need to compute different thresholds and for each threshold compute tpr,fpr and then use               numpy.trapz(tpr_array, fpr_array) <a href='https://stackoverflow.com/q/53603376/4084039'>https://stackoverflow.com/q/53603376/4084039</a>, <a href='https://stackoverflow.com/a/39678975/4084039'>https://stackoverflow.com/a/39678975/4084039</a>\n",
        "Note- Make sure that you arrange your probability scores in descending order while calculating AUC</li>\n",
        "<li> Compute Accuracy Score </li>\n",
        "</ol>\n",
        "</pre>"
      ]
    },
    {
      "cell_type": "code",
      "execution_count": null,
      "metadata": {
        "id": "U2sKlq0YQvn5",
        "outputId": "2f310ed5-2ea5-4a98-92d6-889f30ce4ff5"
      },
      "outputs": [
        {
          "name": "stdout",
          "output_type": "stream",
          "text": [
            "     y     proba\n",
            "0  0.0  0.281035\n",
            "1  0.0  0.465152\n",
            "2  0.0  0.352793\n",
            "3  0.0  0.157818\n",
            "4  0.0  0.276648\n",
            "5  0.0  0.190260\n",
            "6  0.0  0.320328\n",
            "7  0.0  0.435013\n",
            "8  0.0  0.284849\n",
            "9  0.0  0.427919\n",
            "__________________________________________________\n",
            "(10100, 2)\n"
          ]
        }
      ],
      "source": [
        "df_b=pd.read_csv('5_b.csv')\n",
        "print(df_b.head(10))\n",
        "print('_'*50)\n",
        "print(df_b.shape)"
      ]
    },
    {
      "cell_type": "markdown",
      "metadata": {
        "id": "oh2yU4qyAbmS"
      },
      "source": [
        "### Number of points of each class"
      ]
    },
    {
      "cell_type": "code",
      "execution_count": null,
      "metadata": {
        "id": "1TQykOAgAbmT",
        "outputId": "ccdda489-9529-4963-948e-816021cbd9c7"
      },
      "outputs": [
        {
          "name": "stdout",
          "output_type": "stream",
          "text": [
            "0.0    10000\n",
            "1.0      100\n",
            "Name: y, dtype: int64\n"
          ]
        }
      ],
      "source": [
        "c1= df_b['y'].value_counts() #Number of points that belong to class 1 and class 0\n",
        "print(c1)"
      ]
    },
    {
      "cell_type": "markdown",
      "metadata": {
        "id": "IRzWSTKXAbmT"
      },
      "source": [
        "Hence the Dataset is highly imbalanced towards Class-0"
      ]
    },
    {
      "cell_type": "code",
      "execution_count": null,
      "metadata": {
        "id": "xlLVa-cVAfCS",
        "outputId": "db77d12d-2a90-4413-9a56-e123eae61cac"
      },
      "outputs": [
        {
          "name": "stdout",
          "output_type": "stream",
          "text": [
            "The number of predicted classes are\n",
            "0    9806\n",
            "1     294\n",
            "Name: proba, dtype: int64\n",
            "____________________________________________________________________________________________________\n",
            "Confusion Matrix=\n",
            "[[  55  239]\n",
            " [  45 9761]]\n",
            "____________________________________________________________________________________________________\n",
            "F1 Score=0.2791878172588833\n",
            "____________________________________________________________________________________________________\n",
            "Accuracy Score=0.9718811881188119\n",
            "____________________________________________________________________________________________________\n",
            "AUC =0.9377570000000001\n",
            "____________________________________________________________________________________________________\n"
          ]
        },
        {
          "data": {
            "image/png": "[encoded data removed]",
            "text/plain": [
              "<Figure size 432x288 with 1 Axes>"
            ]
          },
          "metadata": {
            "needs_background": "light"
          },
          "output_type": "display_data"
        }
      ],
      "source": [
        "# write your code here for task B\n",
        "\n",
        "#1. ROUNDING OFF PROBABILITY SCORES INTO CLASSES\n",
        "df_b['proba'] = np.where(df_b['proba'] >= 0.5, 1, 0)\n",
        "print(\"The number of predicted classes are\")\n",
        "print(df_b['proba'].value_counts())\n",
        "print('_'*100)\n",
        "\n",
        "#2. COMPUTE CONFUSION MATRIX\n",
        "\n",
        "TP2= df_b[(df_b['y']==1) & (df_b['proba']==1)].count()[0] #True Positive\n",
        "FP2= df_b[(df_b['y']==0) & (df_b['proba']==1)].count()[0] #False Positive\n",
        "TN2= df_b[(df_b['y']==0) & (df_b['proba']==0)].count()[0] #False Negative\n",
        "FN2= df_b[(df_b['y']==1) & (df_b['proba']==0)].count()[0] #True Negative\n",
        "\n",
        "C_M_2= np.matrix([[TP2,FP2],[FN2,TN2]]) #Confusion Matrix\n",
        "print('Confusion Matrix=')\n",
        "print(C_M_2)\n",
        "print('_'*100)\n",
        "\n",
        "#3. Calculation of F1 Score\n",
        "\n",
        "#Precision= True Positive/(True Positive+False Positive)--->What % of points are actually Positive out of all predicted Positive Point\n",
        "# Recall= True Positive/ (True Positive+False Negative)----> True Positive Rate\n",
        "\n",
        "Pr2= TP2/(TP2+FP2) \n",
        "Re2= TP2/(TP2+FN2)\n",
        "\n",
        "#F1 Score= (2*Precision*Recall)/ (Precision+Recall)\n",
        "\n",
        "F1_score_2= (2*Pr2*Re2)/(Pr2+Re2)\n",
        "print('F1 Score={}'.format(F1_score_2))\n",
        "print('_'*100)\n",
        "\n",
        "#4.Calculation of Accuracy Score= (TP+TN)/(TP+FP+FN+TN)\n",
        "\n",
        "accuracy_score_2= (TP2+TN2)/(TP2+FP2+FN2+TN2)\n",
        "print('Accuracy Score={}'.format(accuracy_score_2))\n",
        "print('_'*100)\n",
        "\n",
        "#5. Calculation of AUC Score- Area Under Receiver Operating Characteristic(ROC) Curve\n",
        "df_b=pd.read_csv('5_b.csv') #Again we need to use the probability scores.\n",
        "sortby_prob_2 =df_b.sort_values('proba',ascending=False) #Sorting by probability scores in Descending Order\n",
        "prob_list_2= sortby_prob_2['proba'].tolist()\n",
        "\n",
        "TPR_list_2=[] #To append all TPR values for each iteration\n",
        "FPR_list_2=[] #To append all FPR values for each iteration\n",
        "\n",
        "for thr2 in prob_list_2: #thr2=threshold value\n",
        "    \n",
        "    #Wherever the probability is greater than threshold the value is rounded off to 1. Otherwise 0.\n",
        "    sortby_prob_2['proba'] = np.where(sortby_prob_2['proba'] >= thr2, 1, 0) \n",
        "    \n",
        "    TP_2= sortby_prob_2[(sortby_prob_2['y']==1) & (sortby_prob_2['proba']==1)].count()[0] #True Positive\n",
        "    FP_2= sortby_prob_2[(sortby_prob_2['y']==0) & (sortby_prob_2['proba']==1)].count()[0] #False Positive\n",
        "    TN_2= sortby_prob_2[(sortby_prob_2['y']==0) & (sortby_prob_2['proba']==0)].count()[0] #False Negative\n",
        "    FN_2 =sortby_prob_2[(sortby_prob_2['y']==1) & (sortby_prob_2['proba']==0)].count()[0] #True Negative\n",
        "    \n",
        "    TPR2= TP_2/(TP_2+ FN_2) #True Positive Rate= What % of points are actually +ve out of all the predicted +ve points\n",
        "    FPR2= FP_2/(FP_2+TN_2)  #False Positive Rate= What % of points are predicted as 1 when they are actually 0.\n",
        "    \n",
        "    TPR_list_2.append(TPR2)\n",
        "    FPR_list_2.append(FPR2)\n",
        "    \n",
        "    sortby_prob_2 =df_b.sort_values('proba',ascending=False) #reverting into original sorted probabilities for next iteration\n",
        "\n",
        "AUC_score_2= np.trapz(TPR_list_2,FPR_list_2)\n",
        "print(\"AUC ={}\".format(AUC_score_2))\n",
        "print('_'*100)\n",
        "\n",
        "# 6. Plot of ROC Curve\n",
        "\n",
        "import matplotlib.pyplot as plt\n",
        "plt.plot(FPR_list_2, TPR_list_2)\n",
        "plt.title(\"Receiver Operating Characteristic Curve\")\n",
        "plt.xlabel('FPR')\n",
        "plt.ylabel('TPR')\n",
        "plt.show()\n"
      ]
    },
    {
      "cell_type": "markdown",
      "metadata": {
        "id": "GiPGonTzQvoB"
      },
      "source": [
        "### C. Compute the best threshold (similarly to ROC curve computation) of probability which gives lowest values of metric <b>A</b> for the given data \n",
        "<br>\n",
        "\n",
        "you will be predicting label of a data points like this: $y^{pred}= \\text{[0 if y_score < threshold  else 1]}$\n",
        "\n",
        "$ A = 500 \\times \\text{number of false negative} + 100 \\times \\text{numebr of false positive}$\n",
        "\n",
        "<pre>\n",
        "   <b>Note 1:</b> in this data you can see number of negative points > number of positive points\n",
        "   <b>Note 2:</b> use pandas or numpy to read the data from <b>5_c.csv</b>\n",
        "</pre>"
      ]
    },
    {
      "cell_type": "code",
      "execution_count": null,
      "metadata": {
        "id": "x5HIJzq1QvoE",
        "outputId": "71a9f001-e412-42c9-96aa-4744fccca11b"
      },
      "outputs": [
        {
          "data": {
            "text/html": [
              "<div>\n",
              "<style scoped>\n",
              "    .dataframe tbody tr th:only-of-type {\n",
              "        vertical-align: middle;\n",
              "    }\n",
              "\n",
              "    .dataframe tbody tr th {\n",
              "        vertical-align: top;\n",
              "    }\n",
              "\n",
              "    .dataframe thead th {\n",
              "        text-align: right;\n",
              "    }\n",
              "</style>\n",
              "<table border=\"1\" class=\"dataframe\">\n",
              "  <thead>\n",
              "    <tr style=\"text-align: right;\">\n",
              "      <th></th>\n",
              "      <th>y</th>\n",
              "      <th>prob</th>\n",
              "    </tr>\n",
              "  </thead>\n",
              "  <tbody>\n",
              "    <tr>\n",
              "      <th>0</th>\n",
              "      <td>0</td>\n",
              "      <td>0.458521</td>\n",
              "    </tr>\n",
              "    <tr>\n",
              "      <th>1</th>\n",
              "      <td>0</td>\n",
              "      <td>0.505037</td>\n",
              "    </tr>\n",
              "    <tr>\n",
              "      <th>2</th>\n",
              "      <td>0</td>\n",
              "      <td>0.418652</td>\n",
              "    </tr>\n",
              "    <tr>\n",
              "      <th>3</th>\n",
              "      <td>0</td>\n",
              "      <td>0.412057</td>\n",
              "    </tr>\n",
              "    <tr>\n",
              "      <th>4</th>\n",
              "      <td>0</td>\n",
              "      <td>0.375579</td>\n",
              "    </tr>\n",
              "    <tr>\n",
              "      <th>5</th>\n",
              "      <td>0</td>\n",
              "      <td>0.595387</td>\n",
              "    </tr>\n",
              "    <tr>\n",
              "      <th>6</th>\n",
              "      <td>0</td>\n",
              "      <td>0.370288</td>\n",
              "    </tr>\n",
              "    <tr>\n",
              "      <th>7</th>\n",
              "      <td>0</td>\n",
              "      <td>0.299273</td>\n",
              "    </tr>\n",
              "    <tr>\n",
              "      <th>8</th>\n",
              "      <td>0</td>\n",
              "      <td>0.297000</td>\n",
              "    </tr>\n",
              "    <tr>\n",
              "      <th>9</th>\n",
              "      <td>0</td>\n",
              "      <td>0.266479</td>\n",
              "    </tr>\n",
              "  </tbody>\n",
              "</table>\n",
              "</div>"
            ],
            "text/plain": [
              "   y      prob\n",
              "0  0  0.458521\n",
              "1  0  0.505037\n",
              "2  0  0.418652\n",
              "3  0  0.412057\n",
              "4  0  0.375579\n",
              "5  0  0.595387\n",
              "6  0  0.370288\n",
              "7  0  0.299273\n",
              "8  0  0.297000\n",
              "9  0  0.266479"
            ]
          },
          "execution_count": 265,
          "metadata": {},
          "output_type": "execute_result"
        }
      ],
      "source": [
        "df_c=pd.read_csv('5_c.csv')\n",
        "df_c.head(10)"
      ]
    },
    {
      "cell_type": "code",
      "execution_count": null,
      "metadata": {
        "id": "eAPjewjzAfCa",
        "outputId": "91542e40-bf28-4c66-fe41-c0d924014d04"
      },
      "outputs": [
        {
          "name": "stdout",
          "output_type": "stream",
          "text": [
            "The best threshold is that corresponding to the least value of A\n",
            "Hence the best threshold is 0.2300390278970873\n",
            "____________________________________________________________________________________________________\n"
          ]
        }
      ],
      "source": [
        " # write your code for task C\n",
        "\n",
        "sortby_prob_3 =df_c.sort_values('prob',ascending=False) #Sorting by probability scores in Descending Order\n",
        "prob_list_3= sortby_prob_3['prob'].tolist()\n",
        "\n",
        "list_A=[] #to append each a value\n",
        "\n",
        "for thr3 in prob_list_3:\n",
        "    #Wherever the probability is greater than threshold the value is rounded off to 1. Otherwise 0.\n",
        "    sortby_prob_3['prob'] = np.where(sortby_prob_3['prob'] >= thr3, 1, 0)\n",
        "    \n",
        "    FP_3= sortby_prob_3[(sortby_prob_3['y']==0) & (sortby_prob_3['prob']==1)].count()[0] #False Positive\n",
        "    FN_3 =sortby_prob_3[(sortby_prob_3['y']==1) & (sortby_prob_3['prob']==0)].count()[0] #True Negative\n",
        "    \n",
        "    A= (500*FN_3)+(100*FP_3) #metric\n",
        "    \n",
        "    list_A.append(A)\n",
        "    \n",
        "    sortby_prob_3 =df_c.sort_values('prob',ascending=False)\n",
        "    \n",
        "dict_A= dict(zip(list_A, prob_list_3 )) #combining each value of A to corresponding threshold as a dictionary\n",
        "\n",
        "min_key= min(dict_A.keys()) #for minimum value of A\n",
        "\n",
        "print(\"The best threshold is that corresponding to the least value of A\")\n",
        "print(\"Hence the best threshold is {}\".format(dict_A[min_key]))\n",
        "print('_'*100)"
      ]
    },
    {
      "cell_type": "markdown",
      "metadata": {
        "id": "sD4CcgjXQvoL"
      },
      "source": [
        "\n",
        "## D.</b></font> Compute performance metrics(for regression) for the given data 5_d.csv\n",
        "<pre>    <b>Note 2:</b> use pandas or numpy to read the data from <b>5_d.csv</b>\n",
        "    <b>Note 1:</b> <b>5_d.csv</b> will having two columns Y and predicted_Y both are real valued features\n",
        "<ol>\n",
        "<li> Compute Mean Square Error </li>\n",
        "<li> Compute MAPE: https://www.youtube.com/watch?v=ly6ztgIkUxk</li>\n",
        "<li> Compute R^2 error: https://en.wikipedia.org/wiki/Coefficient_of_determination#Definitions </li>\n",
        "</ol>\n",
        "</pre>"
      ]
    },
    {
      "cell_type": "code",
      "execution_count": null,
      "metadata": {
        "id": "sVOj-bF9AfCd",
        "outputId": "a7cd1c90-bcda-4a78-b7af-c922331f7ac9"
      },
      "outputs": [
        {
          "data": {
            "text/html": [
              "<div>\n",
              "<style scoped>\n",
              "    .dataframe tbody tr th:only-of-type {\n",
              "        vertical-align: middle;\n",
              "    }\n",
              "\n",
              "    .dataframe tbody tr th {\n",
              "        vertical-align: top;\n",
              "    }\n",
              "\n",
              "    .dataframe thead th {\n",
              "        text-align: right;\n",
              "    }\n",
              "</style>\n",
              "<table border=\"1\" class=\"dataframe\">\n",
              "  <thead>\n",
              "    <tr style=\"text-align: right;\">\n",
              "      <th></th>\n",
              "      <th>y</th>\n",
              "      <th>pred</th>\n",
              "    </tr>\n",
              "  </thead>\n",
              "  <tbody>\n",
              "    <tr>\n",
              "      <th>0</th>\n",
              "      <td>101.0</td>\n",
              "      <td>100.0</td>\n",
              "    </tr>\n",
              "    <tr>\n",
              "      <th>1</th>\n",
              "      <td>120.0</td>\n",
              "      <td>100.0</td>\n",
              "    </tr>\n",
              "    <tr>\n",
              "      <th>2</th>\n",
              "      <td>131.0</td>\n",
              "      <td>113.0</td>\n",
              "    </tr>\n",
              "    <tr>\n",
              "      <th>3</th>\n",
              "      <td>164.0</td>\n",
              "      <td>125.0</td>\n",
              "    </tr>\n",
              "    <tr>\n",
              "      <th>4</th>\n",
              "      <td>154.0</td>\n",
              "      <td>152.0</td>\n",
              "    </tr>\n",
              "    <tr>\n",
              "      <th>...</th>\n",
              "      <td>...</td>\n",
              "      <td>...</td>\n",
              "    </tr>\n",
              "    <tr>\n",
              "      <th>157195</th>\n",
              "      <td>87.0</td>\n",
              "      <td>83.0</td>\n",
              "    </tr>\n",
              "    <tr>\n",
              "      <th>157196</th>\n",
              "      <td>97.0</td>\n",
              "      <td>86.0</td>\n",
              "    </tr>\n",
              "    <tr>\n",
              "      <th>157197</th>\n",
              "      <td>106.0</td>\n",
              "      <td>93.0</td>\n",
              "    </tr>\n",
              "    <tr>\n",
              "      <th>157198</th>\n",
              "      <td>105.0</td>\n",
              "      <td>101.0</td>\n",
              "    </tr>\n",
              "    <tr>\n",
              "      <th>157199</th>\n",
              "      <td>81.0</td>\n",
              "      <td>104.0</td>\n",
              "    </tr>\n",
              "  </tbody>\n",
              "</table>\n",
              "<p>157200 rows × 2 columns</p>\n",
              "</div>"
            ],
            "text/plain": [
              "            y   pred\n",
              "0       101.0  100.0\n",
              "1       120.0  100.0\n",
              "2       131.0  113.0\n",
              "3       164.0  125.0\n",
              "4       154.0  152.0\n",
              "...       ...    ...\n",
              "157195   87.0   83.0\n",
              "157196   97.0   86.0\n",
              "157197  106.0   93.0\n",
              "157198  105.0  101.0\n",
              "157199   81.0  104.0\n",
              "\n",
              "[157200 rows x 2 columns]"
            ]
          },
          "execution_count": 267,
          "metadata": {},
          "output_type": "execute_result"
        }
      ],
      "source": [
        "df_d=pd.read_csv('5_d.csv')\n",
        "df_d"
      ]
    },
    {
      "cell_type": "code",
      "execution_count": null,
      "metadata": {
        "id": "uRhL1pheAfCe",
        "outputId": "eb659795-7945-4ba6-db76-65cf49f212cb"
      },
      "outputs": [
        {
          "name": "stdout",
          "output_type": "stream",
          "text": [
            "Mean Square Error= 177.16569974554707\n",
            "____________________________________________________________________________________________________\n",
            "MAPE=0.1291202994009687\n",
            "____________________________________________________________________________________________________\n",
            "R^2 Error=0.9563582786990937\n",
            "____________________________________________________________________________________________________\n"
          ]
        }
      ],
      "source": [
        " # write your code for task 5d\n",
        "\n",
        "#1. Mean Square Error= 1/n*(summation(y-y_pred)^2), where n=total number of datapoints\n",
        "\n",
        "n= len(df_d)\n",
        "df_d['diff_sq']= (df_d['y']-df_d['pred'])**2\n",
        "S= df_d['diff_sq'].sum()\n",
        "mse= S/n\n",
        "print(\"Mean Square Error= {}\".format(mse))\n",
        "print('_'*100)\n",
        "\n",
        "#2 MAPE= Mean Absolute Percentage Error= 1/n (summation(|y-ypred|)/y)\n",
        "df_d['abs_diff']= (df_d['y']-df_d['pred']).abs() #absolute error\n",
        "E= df_d['abs_diff'].sum() #sum of all absolute errors\n",
        "S1= df_d['y'].sum() #we sum up all actual values of y and take it as the denominator to avoid dividing by zero error if an actual value of y is 0.\n",
        "mape= E/S1\n",
        "print(\"MAPE={}\".format(mape))\n",
        "print('_'*100)\n",
        "\n",
        "# 3. R^2 Error\n",
        "\n",
        "df_d['err_sq']= (df_d['y']-(S1/n))**2\n",
        "SS_total= df_d['err_sq'].sum()\n",
        "SS_residual= df_d['diff_sq'].sum()\n",
        "R_square= 1-(SS_residual/SS_total)\n",
        "\n",
        "print(\"R^2 Error={}\".format(R_square))\n",
        "print('_'*100)\n"
      ]
    },
    {
      "cell_type": "code",
      "execution_count": null,
      "metadata": {
        "id": "fCNVkptSAbmW"
      },
      "outputs": [],
      "source": []
    }
  ],
  "metadata": {
    "colab": {
      "provenance": []
    },
    "kernelspec": {
      "display_name": "Python 3 (ipykernel)",
      "language": "python",
      "name": "python3"
    },
    "language_info": {
      "codemirror_mode": {
        "name": "ipython",
        "version": 3
      },
      "file_extension": ".py",
      "mimetype": "text/x-python",
      "name": "python",
      "nbconvert_exporter": "python",
      "pygments_lexer": "ipython3",
      "version": "3.9.7"
    }
  },
  "nbformat": 4,
  "nbformat_minor": 0
}